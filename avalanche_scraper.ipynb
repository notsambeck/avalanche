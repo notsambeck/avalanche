{
 "cells": [
  {
   "cell_type": "markdown",
   "metadata": {},
   "source": [
    "# Avalanche Data Scraper\n",
    "\n",
    "Pull all forecast data from Northwest Avalanche Center for Mount Hood, OR Keep the criticial data along with the 'Forecast Discussion' which provides some context and _may_ be useful for adding some nuance to the data.\n",
    "\n",
    "Unfortunately the aspect, likelihood, and size of hazard (e.g. 'northwest-facing slopes') are stored in .png images on their website; decoding these may be a pain so I'm just scraping the urls for now.\n",
    "\n",
    "The goal is to take this information and start to build an automated avalanche forecast based on live weather data. While I will continue to trust NWAC's human-generated forecast, there may be times where the two forecasts diverge; if the automated model performs well, this information could prove relevant.\n",
    "\n",
    "Additionally, NWAC is only forecasts during the core of the winter season; an automated forecast (if accurate) could be useful for early and late-season."
   ]
  },
  {
   "cell_type": "code",
   "execution_count": 106,
   "metadata": {},
   "outputs": [],
   "source": [
    "import requests\n",
    "from bs4 import BeautifulSoup\n",
    "import pandas as pd\n",
    "from time import sleep\n",
    "\n",
    "# store in dictionary for simplicity\n",
    "data = {}"
   ]
  },
  {
   "cell_type": "code",
   "execution_count": 134,
   "metadata": {},
   "outputs": [],
   "source": [
    "current = \"https://www.nwac.us/avalanche-forecast/current/mt-hood/\"\n",
    "r = requests.get(current)\n",
    "sup = BeautifulSoup(r.content, \"html5lib\")"
   ]
  },
  {
   "cell_type": "code",
   "execution_count": 147,
   "metadata": {},
   "outputs": [
    {
     "name": "stdout",
     "output_type": "stream",
     "text": [
      "{'class': ['problem', 'wind-slab']}\n",
      "{'class': ['problem', 'loose-wet']}\n"
     ]
    }
   ],
   "source": [
    "# scratch cell for figuring out what tags have relevant information\n",
    "ps = sup.find(id=\"problems\")\n",
    "l = ps.find_all(class_='problem')\n",
    "for e in l:\n",
    "    print(e.attrs)"
   ]
  },
  {
   "cell_type": "code",
   "execution_count": 204,
   "metadata": {},
   "outputs": [],
   "source": [
    "def extract(r):\n",
    "    '''take the request (if not 404) and extract relevant info; return the timestamp and a dictionary of data'''\n",
    "    row = {}\n",
    "\n",
    "    soup = BeautifulSoup(r.content, \"html5lib\")\n",
    "    elevs = soup.find(id=\"elevation-levels\")\n",
    "    problem_section = soup.find(id=\"problems\")\n",
    "    problem_tags = problem_section.find_all(class_=\"problem\", recursive=False)\n",
    "    discussion = soup.find(id='discussion').contents\n",
    "    \n",
    "    problems = []\n",
    "    sizes = []\n",
    "    likelihoods = []\n",
    "    octagons = []\n",
    "    \n",
    "    for div in problem_tags:\n",
    "        # print(div.attrs)\n",
    "        problems.append(div.attrs['class'][1])\n",
    "        sizes.append(div.find(class_='problem-sizes').attrs['src'])\n",
    "        likelihoods.append(div.find(class_='problem-likelihood').attrs['src'])\n",
    "        octagons.append(div.find(class_='problem-octagon').attrs['src'])\n",
    "\n",
    "    row['problems'] = problems\n",
    "    row['sizes'] = sizes\n",
    "    row['likelihoods'] = likelihoods\n",
    "    row['octagons'] = octagons\n",
    "    row['discussion'] = discussion\n",
    "    \n",
    "    issued = elevs.contents[1].contents[1].string.strip().strip('Issued: ')\n",
    "\n",
    "    for tag in [\"treeline-above\", \"treeline-near\", \"treeline-below\"]:\n",
    "        el = elevs.find(id=tag)\n",
    "        danger = el.contents[3].contents[5].h4.string\n",
    "        # print(tag, danger)\n",
    "        row[tag] = danger\n",
    "\n",
    "    print('\\r' + str(row['problems']))\n",
    "    return issued, row\n",
    "\n",
    "# extract()"
   ]
  },
  {
   "cell_type": "code",
   "execution_count": 196,
   "metadata": {},
   "outputs": [
    {
     "name": "stdout",
     "output_type": "stream",
     "text": [
      "[['wind-slab', 'loose-wet']]\n"
     ]
    }
   ],
   "source": [
    "ex = extract(requests.get(current))"
   ]
  },
  {
   "cell_type": "code",
   "execution_count": 84,
   "metadata": {},
   "outputs": [],
   "source": [
    "first_forecast = \"https://www.nwac.us/avalanche-forecast/avalanche-region-forecast/73/mt-hood/\"\n",
    "incomplete_forecast = \"https://www.nwac.us/avalanche-forecast/avalanche-region-forecast/3623/mt-hood/\"\n",
    "# url to format, 73 - 3900 ?:\n",
    "url_base = \"https://www.nwac.us/avalanche-forecast/avalanche-region-forecast/{}/mt-hood/\""
   ]
  },
  {
   "cell_type": "code",
   "execution_count": 209,
   "metadata": {},
   "outputs": [
    {
     "name": "stdout",
     "output_type": "stream",
     "text": [
      "0 404\n",
      "1 404\n",
      "2 404\n",
      "3 404\n",
      "4 404\n",
      "5 404\n",
      "6 404\n",
      "7 404\n",
      "8 404\n",
      "9 404\n",
      "10 404\n",
      "11 404\n",
      "12 404\n",
      "13 404\n",
      "14 404\n",
      "15 404\n",
      "16 404\n",
      "17 404\n",
      "18 404\n",
      "19 404\n",
      "20 404\n",
      "21 404\n",
      "22 404\n",
      "23 404\n",
      "24 404\n",
      "25 404\n",
      "26 404\n",
      "27 404\n",
      "28 404\n",
      "29 404\n",
      "30 404\n",
      "31 404\n",
      "32 404\n",
      "33 404\n",
      "34 404\n",
      "35 404\n",
      "36 404\n",
      "37 404\n",
      "38 404\n",
      "39 404\n",
      "40 404\n",
      "41 404\n",
      "42 404\n",
      "43 404\n",
      "44 404\n",
      "45 404\n",
      "46 404\n",
      "47 404\n",
      "48 404\n",
      "49 404\n",
      "50 404\n",
      "51 404\n",
      "52 404\n",
      "53 404\n",
      "54 404\n",
      "55 404\n",
      "56 404\n",
      "57 404\n",
      "58 404\n",
      "59 404\n",
      "60 404\n",
      "61 404\n",
      "62 404\n",
      "63 404\n",
      "64 404\n",
      "65 404\n",
      "66 404\n",
      "67 404\n",
      "68 404\n",
      "69 404\n",
      "70 404\n",
      "71 404\n",
      "72 404\n"
     ]
    }
   ],
   "source": [
    "for i in range(73):\n",
    "# for i in range(73, 75):\n",
    "    url = url_base.format(i)\n",
    "    r = requests.get(url)\n",
    "    print('\\r' + str(i) + ' ' + str(r.status_code))\n",
    "    if r.status_code == 404:\n",
    "        continue\n",
    "    else:\n",
    "        # be nice to server\n",
    "        sleep(.5)\n",
    "\n",
    "    try:\n",
    "        issued, row = extract(r)\n",
    "        data[issued] = row\n",
    "    except AttributeError:\n",
    "        continue"
   ]
  },
  {
   "cell_type": "code",
   "execution_count": 206,
   "metadata": {},
   "outputs": [
    {
     "data": {
      "text/plain": [
       "666"
      ]
     },
     "execution_count": 206,
     "metadata": {},
     "output_type": "execute_result"
    }
   ],
   "source": [
    "len(data)"
   ]
  },
  {
   "cell_type": "code",
   "execution_count": 207,
   "metadata": {},
   "outputs": [
    {
     "data": {
      "text/html": [
       "<div>\n",
       "<style scoped>\n",
       "    .dataframe tbody tr th:only-of-type {\n",
       "        vertical-align: middle;\n",
       "    }\n",
       "\n",
       "    .dataframe tbody tr th {\n",
       "        vertical-align: top;\n",
       "    }\n",
       "\n",
       "    .dataframe thead th {\n",
       "        text-align: right;\n",
       "    }\n",
       "</style>\n",
       "<table border=\"1\" class=\"dataframe\">\n",
       "  <thead>\n",
       "    <tr style=\"text-align: right;\">\n",
       "      <th></th>\n",
       "      <th>treeline-above</th>\n",
       "      <th>treeline-below</th>\n",
       "      <th>discussion</th>\n",
       "      <th>sizes</th>\n",
       "      <th>octagons</th>\n",
       "      <th>treeline-near</th>\n",
       "      <th>likelihoods</th>\n",
       "      <th>problems</th>\n",
       "    </tr>\n",
       "  </thead>\n",
       "  <tbody>\n",
       "    <tr>\n",
       "      <th>10:01 AM PST Sunday, March 12, 2017</th>\n",
       "      <td>Considerable</td>\n",
       "      <td>Moderate</td>\n",
       "      <td>[\n",
       "            , &lt;div class=\"forecast-snowpack\"...</td>\n",
       "      <td>[https://d22fgw9k2fjwhz.cloudfront.net/media/i...</td>\n",
       "      <td>[/avalanche-forecast/octagon/problem/7087.png,...</td>\n",
       "      <td>Considerable</td>\n",
       "      <td>[https://d22fgw9k2fjwhz.cloudfront.net/media/i...</td>\n",
       "      <td>[wind-slab, storm-slabs, cornices, loose-wet]</td>\n",
       "    </tr>\n",
       "    <tr>\n",
       "      <th>10:11 AM PST Tuesday, December 15, 2015</th>\n",
       "      <td>Considerable</td>\n",
       "      <td>Moderate</td>\n",
       "      <td>[\n",
       "            , &lt;div class=\"forecast-snowpack\"...</td>\n",
       "      <td>[https://d22fgw9k2fjwhz.cloudfront.net/media/i...</td>\n",
       "      <td>[/avalanche-forecast/octagon/problem/3605.png,...</td>\n",
       "      <td>Moderate</td>\n",
       "      <td>[https://d22fgw9k2fjwhz.cloudfront.net/media/i...</td>\n",
       "      <td>[wind-slab, storm-slabs]</td>\n",
       "    </tr>\n",
       "    <tr>\n",
       "      <th>10:17 PM PST Monday, March 6, 2017</th>\n",
       "      <td>High</td>\n",
       "      <td>Considerable</td>\n",
       "      <td>[\n",
       "            , &lt;div class=\"forecast-snowpack\"...</td>\n",
       "      <td>[https://d22fgw9k2fjwhz.cloudfront.net/media/i...</td>\n",
       "      <td>[/avalanche-forecast/octagon/problem/6929.png,...</td>\n",
       "      <td>High</td>\n",
       "      <td>[https://d22fgw9k2fjwhz.cloudfront.net/media/i...</td>\n",
       "      <td>[wind-slab, storm-slabs]</td>\n",
       "    </tr>\n",
       "    <tr>\n",
       "      <th>10:18 AM PST Monday, March 6, 2017</th>\n",
       "      <td>Considerable</td>\n",
       "      <td>Moderate</td>\n",
       "      <td>[\n",
       "            , &lt;div class=\"forecast-snowpack\"...</td>\n",
       "      <td>[https://d22fgw9k2fjwhz.cloudfront.net/media/i...</td>\n",
       "      <td>[/avalanche-forecast/octagon/problem/6908.png,...</td>\n",
       "      <td>Considerable</td>\n",
       "      <td>[https://d22fgw9k2fjwhz.cloudfront.net/media/i...</td>\n",
       "      <td>[wind-slab, storm-slabs]</td>\n",
       "    </tr>\n",
       "    <tr>\n",
       "      <th>10:19 AM PST Tuesday, March 25, 2014</th>\n",
       "      <td>Considerable</td>\n",
       "      <td>Moderate</td>\n",
       "      <td>[\n",
       "            , &lt;div class=\"forecast-snowpack\"...</td>\n",
       "      <td>[https://d22fgw9k2fjwhz.cloudfront.net/media/i...</td>\n",
       "      <td>[/avalanche-forecast/octagon/problem/1497.png,...</td>\n",
       "      <td>Considerable</td>\n",
       "      <td>[https://d22fgw9k2fjwhz.cloudfront.net/media/i...</td>\n",
       "      <td>[loose-wet, wind-slab, storm-slabs]</td>\n",
       "    </tr>\n",
       "  </tbody>\n",
       "</table>\n",
       "</div>"
      ],
      "text/plain": [
       "                                        treeline-above treeline-below  \\\n",
       "10:01 AM PST Sunday, March 12, 2017       Considerable       Moderate   \n",
       "10:11 AM PST Tuesday, December 15, 2015   Considerable       Moderate   \n",
       "10:17 PM PST Monday, March 6, 2017                High   Considerable   \n",
       "10:18 AM PST Monday, March 6, 2017        Considerable       Moderate   \n",
       "10:19 AM PST Tuesday, March 25, 2014      Considerable       Moderate   \n",
       "\n",
       "                                                                                discussion  \\\n",
       "10:01 AM PST Sunday, March 12, 2017      [\n",
       "            , <div class=\"forecast-snowpack\"...   \n",
       "10:11 AM PST Tuesday, December 15, 2015  [\n",
       "            , <div class=\"forecast-snowpack\"...   \n",
       "10:17 PM PST Monday, March 6, 2017       [\n",
       "            , <div class=\"forecast-snowpack\"...   \n",
       "10:18 AM PST Monday, March 6, 2017       [\n",
       "            , <div class=\"forecast-snowpack\"...   \n",
       "10:19 AM PST Tuesday, March 25, 2014     [\n",
       "            , <div class=\"forecast-snowpack\"...   \n",
       "\n",
       "                                                                                     sizes  \\\n",
       "10:01 AM PST Sunday, March 12, 2017      [https://d22fgw9k2fjwhz.cloudfront.net/media/i...   \n",
       "10:11 AM PST Tuesday, December 15, 2015  [https://d22fgw9k2fjwhz.cloudfront.net/media/i...   \n",
       "10:17 PM PST Monday, March 6, 2017       [https://d22fgw9k2fjwhz.cloudfront.net/media/i...   \n",
       "10:18 AM PST Monday, March 6, 2017       [https://d22fgw9k2fjwhz.cloudfront.net/media/i...   \n",
       "10:19 AM PST Tuesday, March 25, 2014     [https://d22fgw9k2fjwhz.cloudfront.net/media/i...   \n",
       "\n",
       "                                                                                  octagons  \\\n",
       "10:01 AM PST Sunday, March 12, 2017      [/avalanche-forecast/octagon/problem/7087.png,...   \n",
       "10:11 AM PST Tuesday, December 15, 2015  [/avalanche-forecast/octagon/problem/3605.png,...   \n",
       "10:17 PM PST Monday, March 6, 2017       [/avalanche-forecast/octagon/problem/6929.png,...   \n",
       "10:18 AM PST Monday, March 6, 2017       [/avalanche-forecast/octagon/problem/6908.png,...   \n",
       "10:19 AM PST Tuesday, March 25, 2014     [/avalanche-forecast/octagon/problem/1497.png,...   \n",
       "\n",
       "                                        treeline-near  \\\n",
       "10:01 AM PST Sunday, March 12, 2017      Considerable   \n",
       "10:11 AM PST Tuesday, December 15, 2015      Moderate   \n",
       "10:17 PM PST Monday, March 6, 2017               High   \n",
       "10:18 AM PST Monday, March 6, 2017       Considerable   \n",
       "10:19 AM PST Tuesday, March 25, 2014     Considerable   \n",
       "\n",
       "                                                                               likelihoods  \\\n",
       "10:01 AM PST Sunday, March 12, 2017      [https://d22fgw9k2fjwhz.cloudfront.net/media/i...   \n",
       "10:11 AM PST Tuesday, December 15, 2015  [https://d22fgw9k2fjwhz.cloudfront.net/media/i...   \n",
       "10:17 PM PST Monday, March 6, 2017       [https://d22fgw9k2fjwhz.cloudfront.net/media/i...   \n",
       "10:18 AM PST Monday, March 6, 2017       [https://d22fgw9k2fjwhz.cloudfront.net/media/i...   \n",
       "10:19 AM PST Tuesday, March 25, 2014     [https://d22fgw9k2fjwhz.cloudfront.net/media/i...   \n",
       "\n",
       "                                                                              problems  \n",
       "10:01 AM PST Sunday, March 12, 2017      [wind-slab, storm-slabs, cornices, loose-wet]  \n",
       "10:11 AM PST Tuesday, December 15, 2015                       [wind-slab, storm-slabs]  \n",
       "10:17 PM PST Monday, March 6, 2017                            [wind-slab, storm-slabs]  \n",
       "10:18 AM PST Monday, March 6, 2017                            [wind-slab, storm-slabs]  \n",
       "10:19 AM PST Tuesday, March 25, 2014               [loose-wet, wind-slab, storm-slabs]  "
      ]
     },
     "execution_count": 207,
     "metadata": {},
     "output_type": "execute_result"
    }
   ],
   "source": [
    "df = pd.DataFrame.from_dict(data, orient='index')\n",
    "df.head()"
   ]
  },
  {
   "cell_type": "code",
   "execution_count": 208,
   "metadata": {},
   "outputs": [],
   "source": [
    "df.to_csv('nwac_mount_hood_dec2013-dec2017.csv')"
   ]
  },
  {
   "cell_type": "code",
   "execution_count": null,
   "metadata": {},
   "outputs": [],
   "source": []
  }
 ],
 "metadata": {
  "kernelspec": {
   "display_name": "Python 3",
   "language": "python",
   "name": "python3"
  },
  "language_info": {
   "codemirror_mode": {
    "name": "ipython",
    "version": 3
   },
   "file_extension": ".py",
   "mimetype": "text/x-python",
   "name": "python",
   "nbconvert_exporter": "python",
   "pygments_lexer": "ipython3",
   "version": "3.5.2"
  }
 },
 "nbformat": 4,
 "nbformat_minor": 2
}
