{
 "cells": [
  {
   "cell_type": "code",
   "execution_count": 1,
   "metadata": {},
   "outputs": [
    {
     "name": "stdout",
     "output_type": "stream",
     "text": [
      "['Timberline-MagicMile_6990_feet_2014.csv', 'Timberline-MagicMile_6990_feet_2017.csv', 'Timberline-MagicMile_6990_feet_2016.csv', 'Timberline-MagicMile_6990_feet_2015.csv']\n",
      "\n",
      "['TimberlineLodge_5880_feet_2017.csv', 'TimberlineLodge_5880_feet_2016.csv', 'TimberlineLodge_5880_feet_2014.csv', 'TimberlineLodge_5880_feet_2015.csv']\n",
      "\n",
      "['MtHoodMeadowsBase_5380_feet_2015.csv', 'MtHoodMeadowsBase_5380_feet_2017.csv', 'MtHoodMeadowsBase_5380_feet_2014.csv', 'MtHoodMeadowsBase_5380_feet_2016.csv']\n",
      "\n",
      "['MtHoodMeadows-CascadeExpress_7300_feet_2014.csv', 'MtHoodMeadows-CascadeExpress_7300_feet_2015.csv', 'MtHoodMeadows-CascadeExpress_7300_feet_2016.csv', 'MtHoodMeadows-CascadeExpress_7300_feet_2017.csv']\n"
     ]
    }
   ],
   "source": [
    "import os\n",
    "import numpy as np\n",
    "import pandas as pd\n",
    "import datetime\n",
    "files = os.listdir('raw_data/')\n",
    "\n",
    "# group raw data by elevation listed in filenames\n",
    "\n",
    "tline_top_files = [file for file in files if '6990' in file]\n",
    "tline_lodge_files = [file for file in files if '5880' in file]\n",
    "meadows_files = [file for file in files if '5380' in file]\n",
    "meadows_top_files = [file for file in files if '7300' in file]\n",
    "\n",
    "print(tline_top_files)\n",
    "print()\n",
    "print(tline_lodge_files)\n",
    "print()\n",
    "print(meadows_files)\n",
    "print()\n",
    "print(meadows_top_files)"
   ]
  },
  {
   "cell_type": "code",
   "execution_count": 2,
   "metadata": {},
   "outputs": [],
   "source": [
    "def assemble(filelist, label):\n",
    "    frame = pd.DataFrame()\n",
    "    num_rows = 0\n",
    "    for file in filelist:\n",
    "        tmp = pd.read_csv('raw_data/' + file)\n",
    "        num_rows += len(tmp)\n",
    "        tmp.index = tmp['Date/Time (PST)'].map(lambda x: pd.to_datetime(x, utc='America/Los_Angeles'))\n",
    "        # tmp.index = tmp.index.tz_convert('America/Los_Angeles')\n",
    "        del(tmp['Date/Time (PST)'])\n",
    "        tmp.columns = [col.replace(' (\")', '').replace(' (deg F)', '').replace(' (mph)', '').replace(' (%)', '').replace(' ', '_') + label for col in tmp.columns]\n",
    "        frame = pd.concat([frame, tmp])\n",
    "        print(num_rows, 'added:', len(frame))\n",
    "    return frame"
   ]
  },
  {
   "cell_type": "code",
   "execution_count": 3,
   "metadata": {},
   "outputs": [
    {
     "name": "stdout",
     "output_type": "stream",
     "text": [
      "8179 added: 8179\n",
      "16964 added: 16964\n",
      "18944 added: 18944\n",
      "27634 added: 27634\n",
      "8678 added: 8678\n",
      "16863 added: 16863\n",
      "19254 added: 19254\n",
      "28042 added: 28042\n"
     ]
    }
   ],
   "source": [
    "# tline_top = assemble(tline_top_files, '_tt')\n",
    "tline_lodge = assemble(tline_lodge_files, '_tl')\n",
    "meadows = assemble(meadows_files, '_m')\n",
    "\n",
    "# data other than from Tline is messy\n",
    "weather = pd.concat([meadows, tline_lodge], axis=1)"
   ]
  },
  {
   "cell_type": "code",
   "execution_count": 4,
   "metadata": {},
   "outputs": [
    {
     "data": {
      "text/html": [
       "<div>\n",
       "<style scoped>\n",
       "    .dataframe tbody tr th:only-of-type {\n",
       "        vertical-align: middle;\n",
       "    }\n",
       "\n",
       "    .dataframe tbody tr th {\n",
       "        vertical-align: top;\n",
       "    }\n",
       "\n",
       "    .dataframe thead th {\n",
       "        text-align: right;\n",
       "    }\n",
       "</style>\n",
       "<table border=\"1\" class=\"dataframe\">\n",
       "  <thead>\n",
       "    <tr style=\"text-align: right;\">\n",
       "      <th></th>\n",
       "      <th>Battery_Voltage_(v)_m</th>\n",
       "      <th>Temperature_m</th>\n",
       "      <th>Relative_Humidity_m</th>\n",
       "      <th>Precipitation_m</th>\n",
       "      <th>24_hour_snowfall_m</th>\n",
       "      <th>Snow_Depth_m</th>\n",
       "      <th>Barometric_Pressure_(mb)_m</th>\n",
       "      <th>Battery_Voltage_(v)_tl</th>\n",
       "      <th>Temperature_tl</th>\n",
       "      <th>Relative_Humidity_tl</th>\n",
       "      <th>Wind_Speed_Minimum_tl</th>\n",
       "      <th>Wind_Speed_Average_tl</th>\n",
       "      <th>Wind_Speed_Maximum_tl</th>\n",
       "      <th>Wind_Direction_(deg.)_tl</th>\n",
       "      <th>Precipitation_tl</th>\n",
       "      <th>24_hour_snowfall_tl</th>\n",
       "      <th>Snow_Depth_tl</th>\n",
       "    </tr>\n",
       "    <tr>\n",
       "      <th>Date/Time (PST)</th>\n",
       "      <th></th>\n",
       "      <th></th>\n",
       "      <th></th>\n",
       "      <th></th>\n",
       "      <th></th>\n",
       "      <th></th>\n",
       "      <th></th>\n",
       "      <th></th>\n",
       "      <th></th>\n",
       "      <th></th>\n",
       "      <th></th>\n",
       "      <th></th>\n",
       "      <th></th>\n",
       "      <th></th>\n",
       "      <th></th>\n",
       "      <th></th>\n",
       "      <th></th>\n",
       "    </tr>\n",
       "  </thead>\n",
       "  <tbody>\n",
       "    <tr>\n",
       "      <th>2014-09-23 09:00:00+00:00</th>\n",
       "      <td>13.18</td>\n",
       "      <td>56.67</td>\n",
       "      <td>58.58</td>\n",
       "      <td>0.0</td>\n",
       "      <td>53.50</td>\n",
       "      <td>15.29</td>\n",
       "      <td>1015.629</td>\n",
       "      <td>11.69</td>\n",
       "      <td>54.18</td>\n",
       "      <td>60.46</td>\n",
       "      <td>-0.034</td>\n",
       "      <td>0.572</td>\n",
       "      <td>6.927</td>\n",
       "      <td>267.7</td>\n",
       "      <td>0.0</td>\n",
       "      <td>30.880</td>\n",
       "      <td>4.007</td>\n",
       "    </tr>\n",
       "    <tr>\n",
       "      <th>2014-09-23 10:00:00+00:00</th>\n",
       "      <td>13.18</td>\n",
       "      <td>56.67</td>\n",
       "      <td>58.58</td>\n",
       "      <td>0.0</td>\n",
       "      <td>53.50</td>\n",
       "      <td>15.29</td>\n",
       "      <td>NaN</td>\n",
       "      <td>11.69</td>\n",
       "      <td>54.18</td>\n",
       "      <td>60.46</td>\n",
       "      <td>-0.034</td>\n",
       "      <td>0.572</td>\n",
       "      <td>6.927</td>\n",
       "      <td>267.7</td>\n",
       "      <td>0.0</td>\n",
       "      <td>4.007</td>\n",
       "      <td>30.880</td>\n",
       "    </tr>\n",
       "    <tr>\n",
       "      <th>2014-09-23 11:00:00+00:00</th>\n",
       "      <td>13.18</td>\n",
       "      <td>55.82</td>\n",
       "      <td>55.47</td>\n",
       "      <td>0.0</td>\n",
       "      <td>53.83</td>\n",
       "      <td>15.43</td>\n",
       "      <td>NaN</td>\n",
       "      <td>11.44</td>\n",
       "      <td>53.69</td>\n",
       "      <td>60.46</td>\n",
       "      <td>-0.034</td>\n",
       "      <td>2.113</td>\n",
       "      <td>8.540</td>\n",
       "      <td>253.8</td>\n",
       "      <td>0.0</td>\n",
       "      <td>3.077</td>\n",
       "      <td>31.350</td>\n",
       "    </tr>\n",
       "  </tbody>\n",
       "</table>\n",
       "</div>"
      ],
      "text/plain": [
       "                           Battery_Voltage_(v)_m  Temperature_m  \\\n",
       "Date/Time (PST)                                                   \n",
       "2014-09-23 09:00:00+00:00                  13.18          56.67   \n",
       "2014-09-23 10:00:00+00:00                  13.18          56.67   \n",
       "2014-09-23 11:00:00+00:00                  13.18          55.82   \n",
       "\n",
       "                           Relative_Humidity_m  Precipitation_m  \\\n",
       "Date/Time (PST)                                                   \n",
       "2014-09-23 09:00:00+00:00                58.58              0.0   \n",
       "2014-09-23 10:00:00+00:00                58.58              0.0   \n",
       "2014-09-23 11:00:00+00:00                55.47              0.0   \n",
       "\n",
       "                           24_hour_snowfall_m  Snow_Depth_m  \\\n",
       "Date/Time (PST)                                               \n",
       "2014-09-23 09:00:00+00:00               53.50         15.29   \n",
       "2014-09-23 10:00:00+00:00               53.50         15.29   \n",
       "2014-09-23 11:00:00+00:00               53.83         15.43   \n",
       "\n",
       "                           Barometric_Pressure_(mb)_m  Battery_Voltage_(v)_tl  \\\n",
       "Date/Time (PST)                                                                 \n",
       "2014-09-23 09:00:00+00:00                    1015.629                   11.69   \n",
       "2014-09-23 10:00:00+00:00                         NaN                   11.69   \n",
       "2014-09-23 11:00:00+00:00                         NaN                   11.44   \n",
       "\n",
       "                           Temperature_tl  Relative_Humidity_tl  \\\n",
       "Date/Time (PST)                                                   \n",
       "2014-09-23 09:00:00+00:00           54.18                 60.46   \n",
       "2014-09-23 10:00:00+00:00           54.18                 60.46   \n",
       "2014-09-23 11:00:00+00:00           53.69                 60.46   \n",
       "\n",
       "                           Wind_Speed_Minimum_tl  Wind_Speed_Average_tl  \\\n",
       "Date/Time (PST)                                                           \n",
       "2014-09-23 09:00:00+00:00                 -0.034                  0.572   \n",
       "2014-09-23 10:00:00+00:00                 -0.034                  0.572   \n",
       "2014-09-23 11:00:00+00:00                 -0.034                  2.113   \n",
       "\n",
       "                           Wind_Speed_Maximum_tl  Wind_Direction_(deg.)_tl  \\\n",
       "Date/Time (PST)                                                              \n",
       "2014-09-23 09:00:00+00:00                  6.927                     267.7   \n",
       "2014-09-23 10:00:00+00:00                  6.927                     267.7   \n",
       "2014-09-23 11:00:00+00:00                  8.540                     253.8   \n",
       "\n",
       "                           Precipitation_tl  24_hour_snowfall_tl  \\\n",
       "Date/Time (PST)                                                    \n",
       "2014-09-23 09:00:00+00:00               0.0               30.880   \n",
       "2014-09-23 10:00:00+00:00               0.0                4.007   \n",
       "2014-09-23 11:00:00+00:00               0.0                3.077   \n",
       "\n",
       "                           Snow_Depth_tl  \n",
       "Date/Time (PST)                           \n",
       "2014-09-23 09:00:00+00:00          4.007  \n",
       "2014-09-23 10:00:00+00:00         30.880  \n",
       "2014-09-23 11:00:00+00:00         31.350  "
      ]
     },
     "execution_count": 4,
     "metadata": {},
     "output_type": "execute_result"
    }
   ],
   "source": [
    "weather.sort_index(inplace=True)\n",
    "weather.head(3)"
   ]
  },
  {
   "cell_type": "code",
   "execution_count": 5,
   "metadata": {},
   "outputs": [],
   "source": [
    "diff = weather.index[1:] - weather.index[:-1]"
   ]
  },
  {
   "cell_type": "code",
   "execution_count": 6,
   "metadata": {},
   "outputs": [
    {
     "name": "stdout",
     "output_type": "stream",
     "text": [
      "28094\n",
      "2 days 00:00:00\n",
      "8174\n"
     ]
    },
    {
     "data": {
      "text/html": [
       "<div>\n",
       "<style scoped>\n",
       "    .dataframe tbody tr th:only-of-type {\n",
       "        vertical-align: middle;\n",
       "    }\n",
       "\n",
       "    .dataframe tbody tr th {\n",
       "        vertical-align: top;\n",
       "    }\n",
       "\n",
       "    .dataframe thead th {\n",
       "        text-align: right;\n",
       "    }\n",
       "</style>\n",
       "<table border=\"1\" class=\"dataframe\">\n",
       "  <thead>\n",
       "    <tr style=\"text-align: right;\">\n",
       "      <th></th>\n",
       "      <th>Battery_Voltage_(v)_m</th>\n",
       "      <th>Temperature_m</th>\n",
       "      <th>Relative_Humidity_m</th>\n",
       "      <th>Precipitation_m</th>\n",
       "      <th>24_hour_snowfall_m</th>\n",
       "      <th>Snow_Depth_m</th>\n",
       "      <th>Barometric_Pressure_(mb)_m</th>\n",
       "      <th>Battery_Voltage_(v)_tl</th>\n",
       "      <th>Temperature_tl</th>\n",
       "      <th>Relative_Humidity_tl</th>\n",
       "      <th>Wind_Speed_Minimum_tl</th>\n",
       "      <th>Wind_Speed_Average_tl</th>\n",
       "      <th>Wind_Speed_Maximum_tl</th>\n",
       "      <th>Wind_Direction_(deg.)_tl</th>\n",
       "      <th>Precipitation_tl</th>\n",
       "      <th>24_hour_snowfall_tl</th>\n",
       "      <th>Snow_Depth_tl</th>\n",
       "    </tr>\n",
       "    <tr>\n",
       "      <th>Date/Time (PST)</th>\n",
       "      <th></th>\n",
       "      <th></th>\n",
       "      <th></th>\n",
       "      <th></th>\n",
       "      <th></th>\n",
       "      <th></th>\n",
       "      <th></th>\n",
       "      <th></th>\n",
       "      <th></th>\n",
       "      <th></th>\n",
       "      <th></th>\n",
       "      <th></th>\n",
       "      <th></th>\n",
       "      <th></th>\n",
       "      <th></th>\n",
       "      <th></th>\n",
       "      <th></th>\n",
       "    </tr>\n",
       "  </thead>\n",
       "  <tbody>\n",
       "    <tr>\n",
       "      <th>2015-08-29 22:00:00+00:00</th>\n",
       "      <td>13.49</td>\n",
       "      <td>45.61</td>\n",
       "      <td>93.20</td>\n",
       "      <td>0.05</td>\n",
       "      <td>54.57</td>\n",
       "      <td>4.067</td>\n",
       "      <td>1012.592</td>\n",
       "      <td>13.62</td>\n",
       "      <td>43.58</td>\n",
       "      <td>100.0</td>\n",
       "      <td>1.649</td>\n",
       "      <td>6.415</td>\n",
       "      <td>15.04</td>\n",
       "      <td>294.0</td>\n",
       "      <td>0.17</td>\n",
       "      <td>30.74</td>\n",
       "      <td>0.587</td>\n",
       "    </tr>\n",
       "    <tr>\n",
       "      <th>2015-08-29 23:00:00+00:00</th>\n",
       "      <td>13.49</td>\n",
       "      <td>46.22</td>\n",
       "      <td>92.90</td>\n",
       "      <td>0.00</td>\n",
       "      <td>55.30</td>\n",
       "      <td>4.667</td>\n",
       "      <td>1012.456</td>\n",
       "      <td>13.61</td>\n",
       "      <td>43.46</td>\n",
       "      <td>100.0</td>\n",
       "      <td>4.172</td>\n",
       "      <td>8.730</td>\n",
       "      <td>18.88</td>\n",
       "      <td>287.5</td>\n",
       "      <td>0.01</td>\n",
       "      <td>30.74</td>\n",
       "      <td>2.437</td>\n",
       "    </tr>\n",
       "    <tr>\n",
       "      <th>2015-08-31 23:00:00+00:00</th>\n",
       "      <td>13.43</td>\n",
       "      <td>50.23</td>\n",
       "      <td>37.66</td>\n",
       "      <td>0.00</td>\n",
       "      <td>66.56</td>\n",
       "      <td>7.448</td>\n",
       "      <td>1015.127</td>\n",
       "      <td>13.61</td>\n",
       "      <td>41.76</td>\n",
       "      <td>96.4</td>\n",
       "      <td>7.770</td>\n",
       "      <td>13.600</td>\n",
       "      <td>20.76</td>\n",
       "      <td>314.4</td>\n",
       "      <td>0.00</td>\n",
       "      <td>30.94</td>\n",
       "      <td>5.087</td>\n",
       "    </tr>\n",
       "    <tr>\n",
       "      <th>2015-09-01 00:00:00+00:00</th>\n",
       "      <td>13.44</td>\n",
       "      <td>50.11</td>\n",
       "      <td>35.63</td>\n",
       "      <td>0.00</td>\n",
       "      <td>63.50</td>\n",
       "      <td>12.510</td>\n",
       "      <td>1014.856</td>\n",
       "      <td>13.61</td>\n",
       "      <td>41.16</td>\n",
       "      <td>96.4</td>\n",
       "      <td>5.518</td>\n",
       "      <td>12.370</td>\n",
       "      <td>21.23</td>\n",
       "      <td>312.3</td>\n",
       "      <td>0.00</td>\n",
       "      <td>30.87</td>\n",
       "      <td>5.087</td>\n",
       "    </tr>\n",
       "    <tr>\n",
       "      <th>2015-09-01 01:00:00+00:00</th>\n",
       "      <td>13.46</td>\n",
       "      <td>47.31</td>\n",
       "      <td>56.90</td>\n",
       "      <td>0.00</td>\n",
       "      <td>59.56</td>\n",
       "      <td>11.310</td>\n",
       "      <td>1014.871</td>\n",
       "      <td>13.61</td>\n",
       "      <td>40.92</td>\n",
       "      <td>98.5</td>\n",
       "      <td>6.931</td>\n",
       "      <td>12.160</td>\n",
       "      <td>21.97</td>\n",
       "      <td>306.8</td>\n",
       "      <td>0.00</td>\n",
       "      <td>30.80</td>\n",
       "      <td>5.484</td>\n",
       "    </tr>\n",
       "    <tr>\n",
       "      <th>2015-09-01 02:00:00+00:00</th>\n",
       "      <td>13.47</td>\n",
       "      <td>51.82</td>\n",
       "      <td>26.83</td>\n",
       "      <td>0.00</td>\n",
       "      <td>56.03</td>\n",
       "      <td>14.360</td>\n",
       "      <td>1014.735</td>\n",
       "      <td>13.61</td>\n",
       "      <td>40.31</td>\n",
       "      <td>95.6</td>\n",
       "      <td>5.451</td>\n",
       "      <td>11.710</td>\n",
       "      <td>22.41</td>\n",
       "      <td>308.6</td>\n",
       "      <td>0.00</td>\n",
       "      <td>30.87</td>\n",
       "      <td>5.617</td>\n",
       "    </tr>\n",
       "    <tr>\n",
       "      <th>2015-09-01 03:00:00+00:00</th>\n",
       "      <td>13.44</td>\n",
       "      <td>52.67</td>\n",
       "      <td>21.41</td>\n",
       "      <td>0.00</td>\n",
       "      <td>55.90</td>\n",
       "      <td>12.850</td>\n",
       "      <td>1014.449</td>\n",
       "      <td>13.60</td>\n",
       "      <td>39.70</td>\n",
       "      <td>96.0</td>\n",
       "      <td>6.157</td>\n",
       "      <td>11.600</td>\n",
       "      <td>18.20</td>\n",
       "      <td>309.3</td>\n",
       "      <td>0.00</td>\n",
       "      <td>30.87</td>\n",
       "      <td>5.617</td>\n",
       "    </tr>\n",
       "  </tbody>\n",
       "</table>\n",
       "</div>"
      ],
      "text/plain": [
       "                           Battery_Voltage_(v)_m  Temperature_m  \\\n",
       "Date/Time (PST)                                                   \n",
       "2015-08-29 22:00:00+00:00                  13.49          45.61   \n",
       "2015-08-29 23:00:00+00:00                  13.49          46.22   \n",
       "2015-08-31 23:00:00+00:00                  13.43          50.23   \n",
       "2015-09-01 00:00:00+00:00                  13.44          50.11   \n",
       "2015-09-01 01:00:00+00:00                  13.46          47.31   \n",
       "2015-09-01 02:00:00+00:00                  13.47          51.82   \n",
       "2015-09-01 03:00:00+00:00                  13.44          52.67   \n",
       "\n",
       "                           Relative_Humidity_m  Precipitation_m  \\\n",
       "Date/Time (PST)                                                   \n",
       "2015-08-29 22:00:00+00:00                93.20             0.05   \n",
       "2015-08-29 23:00:00+00:00                92.90             0.00   \n",
       "2015-08-31 23:00:00+00:00                37.66             0.00   \n",
       "2015-09-01 00:00:00+00:00                35.63             0.00   \n",
       "2015-09-01 01:00:00+00:00                56.90             0.00   \n",
       "2015-09-01 02:00:00+00:00                26.83             0.00   \n",
       "2015-09-01 03:00:00+00:00                21.41             0.00   \n",
       "\n",
       "                           24_hour_snowfall_m  Snow_Depth_m  \\\n",
       "Date/Time (PST)                                               \n",
       "2015-08-29 22:00:00+00:00               54.57         4.067   \n",
       "2015-08-29 23:00:00+00:00               55.30         4.667   \n",
       "2015-08-31 23:00:00+00:00               66.56         7.448   \n",
       "2015-09-01 00:00:00+00:00               63.50        12.510   \n",
       "2015-09-01 01:00:00+00:00               59.56        11.310   \n",
       "2015-09-01 02:00:00+00:00               56.03        14.360   \n",
       "2015-09-01 03:00:00+00:00               55.90        12.850   \n",
       "\n",
       "                           Barometric_Pressure_(mb)_m  Battery_Voltage_(v)_tl  \\\n",
       "Date/Time (PST)                                                                 \n",
       "2015-08-29 22:00:00+00:00                    1012.592                   13.62   \n",
       "2015-08-29 23:00:00+00:00                    1012.456                   13.61   \n",
       "2015-08-31 23:00:00+00:00                    1015.127                   13.61   \n",
       "2015-09-01 00:00:00+00:00                    1014.856                   13.61   \n",
       "2015-09-01 01:00:00+00:00                    1014.871                   13.61   \n",
       "2015-09-01 02:00:00+00:00                    1014.735                   13.61   \n",
       "2015-09-01 03:00:00+00:00                    1014.449                   13.60   \n",
       "\n",
       "                           Temperature_tl  Relative_Humidity_tl  \\\n",
       "Date/Time (PST)                                                   \n",
       "2015-08-29 22:00:00+00:00           43.58                 100.0   \n",
       "2015-08-29 23:00:00+00:00           43.46                 100.0   \n",
       "2015-08-31 23:00:00+00:00           41.76                  96.4   \n",
       "2015-09-01 00:00:00+00:00           41.16                  96.4   \n",
       "2015-09-01 01:00:00+00:00           40.92                  98.5   \n",
       "2015-09-01 02:00:00+00:00           40.31                  95.6   \n",
       "2015-09-01 03:00:00+00:00           39.70                  96.0   \n",
       "\n",
       "                           Wind_Speed_Minimum_tl  Wind_Speed_Average_tl  \\\n",
       "Date/Time (PST)                                                           \n",
       "2015-08-29 22:00:00+00:00                  1.649                  6.415   \n",
       "2015-08-29 23:00:00+00:00                  4.172                  8.730   \n",
       "2015-08-31 23:00:00+00:00                  7.770                 13.600   \n",
       "2015-09-01 00:00:00+00:00                  5.518                 12.370   \n",
       "2015-09-01 01:00:00+00:00                  6.931                 12.160   \n",
       "2015-09-01 02:00:00+00:00                  5.451                 11.710   \n",
       "2015-09-01 03:00:00+00:00                  6.157                 11.600   \n",
       "\n",
       "                           Wind_Speed_Maximum_tl  Wind_Direction_(deg.)_tl  \\\n",
       "Date/Time (PST)                                                              \n",
       "2015-08-29 22:00:00+00:00                  15.04                     294.0   \n",
       "2015-08-29 23:00:00+00:00                  18.88                     287.5   \n",
       "2015-08-31 23:00:00+00:00                  20.76                     314.4   \n",
       "2015-09-01 00:00:00+00:00                  21.23                     312.3   \n",
       "2015-09-01 01:00:00+00:00                  21.97                     306.8   \n",
       "2015-09-01 02:00:00+00:00                  22.41                     308.6   \n",
       "2015-09-01 03:00:00+00:00                  18.20                     309.3   \n",
       "\n",
       "                           Precipitation_tl  24_hour_snowfall_tl  \\\n",
       "Date/Time (PST)                                                    \n",
       "2015-08-29 22:00:00+00:00              0.17                30.74   \n",
       "2015-08-29 23:00:00+00:00              0.01                30.74   \n",
       "2015-08-31 23:00:00+00:00              0.00                30.94   \n",
       "2015-09-01 00:00:00+00:00              0.00                30.87   \n",
       "2015-09-01 01:00:00+00:00              0.00                30.80   \n",
       "2015-09-01 02:00:00+00:00              0.00                30.87   \n",
       "2015-09-01 03:00:00+00:00              0.00                30.87   \n",
       "\n",
       "                           Snow_Depth_tl  \n",
       "Date/Time (PST)                           \n",
       "2015-08-29 22:00:00+00:00          0.587  \n",
       "2015-08-29 23:00:00+00:00          2.437  \n",
       "2015-08-31 23:00:00+00:00          5.087  \n",
       "2015-09-01 00:00:00+00:00          5.087  \n",
       "2015-09-01 01:00:00+00:00          5.484  \n",
       "2015-09-01 02:00:00+00:00          5.617  \n",
       "2015-09-01 03:00:00+00:00          5.617  "
      ]
     },
     "execution_count": 6,
     "metadata": {},
     "output_type": "execute_result"
    }
   ],
   "source": [
    "print(len(weather))\n",
    "print(diff.max())\n",
    "print(diff.argmax())  # longest gap without weather data\n",
    "weather.iloc[8173:8180]"
   ]
  },
  {
   "cell_type": "code",
   "execution_count": 7,
   "metadata": {},
   "outputs": [
    {
     "data": {
      "text/plain": [
       "DatetimeIndex(['2014-09-23 09:00:00+00:00', '2014-09-23 10:00:00+00:00',\n",
       "               '2014-09-23 11:00:00+00:00', '2014-09-23 12:00:00+00:00',\n",
       "               '2014-09-23 13:00:00+00:00', '2014-09-23 14:00:00+00:00',\n",
       "               '2014-09-23 15:00:00+00:00', '2014-09-23 16:00:00+00:00',\n",
       "               '2014-09-23 17:00:00+00:00', '2014-09-23 18:00:00+00:00',\n",
       "               ...\n",
       "               '2017-12-08 21:00:00+00:00', '2017-12-08 22:00:00+00:00',\n",
       "               '2017-12-08 23:00:00+00:00', '2017-12-09 00:00:00+00:00',\n",
       "               '2017-12-09 01:00:00+00:00', '2017-12-09 02:00:00+00:00',\n",
       "               '2017-12-09 03:00:00+00:00', '2017-12-09 04:00:00+00:00',\n",
       "               '2017-12-09 05:00:00+00:00', '2017-12-09 06:00:00+00:00'],\n",
       "              dtype='datetime64[ns, UTC]', length=28150, freq='H')"
      ]
     },
     "execution_count": 7,
     "metadata": {},
     "output_type": "execute_result"
    }
   ],
   "source": [
    "rng = pd.date_range(weather.index[0], periods=28150, freq='H')\n",
    "rng"
   ]
  },
  {
   "cell_type": "code",
   "execution_count": 8,
   "metadata": {},
   "outputs": [
    {
     "data": {
      "text/html": [
       "<div>\n",
       "<style scoped>\n",
       "    .dataframe tbody tr th:only-of-type {\n",
       "        vertical-align: middle;\n",
       "    }\n",
       "\n",
       "    .dataframe tbody tr th {\n",
       "        vertical-align: top;\n",
       "    }\n",
       "\n",
       "    .dataframe thead th {\n",
       "        text-align: right;\n",
       "    }\n",
       "</style>\n",
       "<table border=\"1\" class=\"dataframe\">\n",
       "  <thead>\n",
       "    <tr style=\"text-align: right;\">\n",
       "      <th></th>\n",
       "      <th>Battery_Voltage_(v)_m</th>\n",
       "      <th>Temperature_m</th>\n",
       "      <th>Relative_Humidity_m</th>\n",
       "      <th>Precipitation_m</th>\n",
       "      <th>24_hour_snowfall_m</th>\n",
       "      <th>Snow_Depth_m</th>\n",
       "      <th>Barometric_Pressure_(mb)_m</th>\n",
       "      <th>Battery_Voltage_(v)_tl</th>\n",
       "      <th>Temperature_tl</th>\n",
       "      <th>Relative_Humidity_tl</th>\n",
       "      <th>Wind_Speed_Minimum_tl</th>\n",
       "      <th>Wind_Speed_Average_tl</th>\n",
       "      <th>Wind_Speed_Maximum_tl</th>\n",
       "      <th>Wind_Direction_(deg.)_tl</th>\n",
       "      <th>Precipitation_tl</th>\n",
       "      <th>24_hour_snowfall_tl</th>\n",
       "      <th>Snow_Depth_tl</th>\n",
       "    </tr>\n",
       "  </thead>\n",
       "  <tbody>\n",
       "    <tr>\n",
       "      <th>2014-09-23 09:00:00+00:00</th>\n",
       "      <td>13.18</td>\n",
       "      <td>56.67</td>\n",
       "      <td>58.58</td>\n",
       "      <td>0.0</td>\n",
       "      <td>53.50</td>\n",
       "      <td>15.29</td>\n",
       "      <td>1015.629</td>\n",
       "      <td>11.69</td>\n",
       "      <td>54.18</td>\n",
       "      <td>60.46</td>\n",
       "      <td>-0.034</td>\n",
       "      <td>0.572</td>\n",
       "      <td>6.927</td>\n",
       "      <td>267.7</td>\n",
       "      <td>0.0</td>\n",
       "      <td>30.880</td>\n",
       "      <td>4.007</td>\n",
       "    </tr>\n",
       "    <tr>\n",
       "      <th>2014-09-23 10:00:00+00:00</th>\n",
       "      <td>13.18</td>\n",
       "      <td>56.67</td>\n",
       "      <td>58.58</td>\n",
       "      <td>0.0</td>\n",
       "      <td>53.50</td>\n",
       "      <td>15.29</td>\n",
       "      <td>NaN</td>\n",
       "      <td>11.69</td>\n",
       "      <td>54.18</td>\n",
       "      <td>60.46</td>\n",
       "      <td>-0.034</td>\n",
       "      <td>0.572</td>\n",
       "      <td>6.927</td>\n",
       "      <td>267.7</td>\n",
       "      <td>0.0</td>\n",
       "      <td>4.007</td>\n",
       "      <td>30.880</td>\n",
       "    </tr>\n",
       "    <tr>\n",
       "      <th>2014-09-23 11:00:00+00:00</th>\n",
       "      <td>13.18</td>\n",
       "      <td>55.82</td>\n",
       "      <td>55.47</td>\n",
       "      <td>0.0</td>\n",
       "      <td>53.83</td>\n",
       "      <td>15.43</td>\n",
       "      <td>NaN</td>\n",
       "      <td>11.44</td>\n",
       "      <td>53.69</td>\n",
       "      <td>60.46</td>\n",
       "      <td>-0.034</td>\n",
       "      <td>2.113</td>\n",
       "      <td>8.540</td>\n",
       "      <td>253.8</td>\n",
       "      <td>0.0</td>\n",
       "      <td>3.077</td>\n",
       "      <td>31.350</td>\n",
       "    </tr>\n",
       "    <tr>\n",
       "      <th>2014-09-23 12:00:00+00:00</th>\n",
       "      <td>13.16</td>\n",
       "      <td>57.04</td>\n",
       "      <td>59.40</td>\n",
       "      <td>0.0</td>\n",
       "      <td>54.43</td>\n",
       "      <td>13.56</td>\n",
       "      <td>NaN</td>\n",
       "      <td>11.70</td>\n",
       "      <td>54.79</td>\n",
       "      <td>64.29</td>\n",
       "      <td>-0.034</td>\n",
       "      <td>3.683</td>\n",
       "      <td>12.170</td>\n",
       "      <td>236.7</td>\n",
       "      <td>0.0</td>\n",
       "      <td>3.077</td>\n",
       "      <td>31.410</td>\n",
       "    </tr>\n",
       "    <tr>\n",
       "      <th>2014-09-23 13:00:00+00:00</th>\n",
       "      <td>13.18</td>\n",
       "      <td>55.58</td>\n",
       "      <td>64.75</td>\n",
       "      <td>0.0</td>\n",
       "      <td>55.76</td>\n",
       "      <td>13.49</td>\n",
       "      <td>NaN</td>\n",
       "      <td>11.17</td>\n",
       "      <td>53.57</td>\n",
       "      <td>70.40</td>\n",
       "      <td>0.000</td>\n",
       "      <td>5.422</td>\n",
       "      <td>16.640</td>\n",
       "      <td>252.7</td>\n",
       "      <td>0.0</td>\n",
       "      <td>-6999.000</td>\n",
       "      <td>30.820</td>\n",
       "    </tr>\n",
       "  </tbody>\n",
       "</table>\n",
       "</div>"
      ],
      "text/plain": [
       "                           Battery_Voltage_(v)_m  Temperature_m  \\\n",
       "2014-09-23 09:00:00+00:00                  13.18          56.67   \n",
       "2014-09-23 10:00:00+00:00                  13.18          56.67   \n",
       "2014-09-23 11:00:00+00:00                  13.18          55.82   \n",
       "2014-09-23 12:00:00+00:00                  13.16          57.04   \n",
       "2014-09-23 13:00:00+00:00                  13.18          55.58   \n",
       "\n",
       "                           Relative_Humidity_m  Precipitation_m  \\\n",
       "2014-09-23 09:00:00+00:00                58.58              0.0   \n",
       "2014-09-23 10:00:00+00:00                58.58              0.0   \n",
       "2014-09-23 11:00:00+00:00                55.47              0.0   \n",
       "2014-09-23 12:00:00+00:00                59.40              0.0   \n",
       "2014-09-23 13:00:00+00:00                64.75              0.0   \n",
       "\n",
       "                           24_hour_snowfall_m  Snow_Depth_m  \\\n",
       "2014-09-23 09:00:00+00:00               53.50         15.29   \n",
       "2014-09-23 10:00:00+00:00               53.50         15.29   \n",
       "2014-09-23 11:00:00+00:00               53.83         15.43   \n",
       "2014-09-23 12:00:00+00:00               54.43         13.56   \n",
       "2014-09-23 13:00:00+00:00               55.76         13.49   \n",
       "\n",
       "                           Barometric_Pressure_(mb)_m  Battery_Voltage_(v)_tl  \\\n",
       "2014-09-23 09:00:00+00:00                    1015.629                   11.69   \n",
       "2014-09-23 10:00:00+00:00                         NaN                   11.69   \n",
       "2014-09-23 11:00:00+00:00                         NaN                   11.44   \n",
       "2014-09-23 12:00:00+00:00                         NaN                   11.70   \n",
       "2014-09-23 13:00:00+00:00                         NaN                   11.17   \n",
       "\n",
       "                           Temperature_tl  Relative_Humidity_tl  \\\n",
       "2014-09-23 09:00:00+00:00           54.18                 60.46   \n",
       "2014-09-23 10:00:00+00:00           54.18                 60.46   \n",
       "2014-09-23 11:00:00+00:00           53.69                 60.46   \n",
       "2014-09-23 12:00:00+00:00           54.79                 64.29   \n",
       "2014-09-23 13:00:00+00:00           53.57                 70.40   \n",
       "\n",
       "                           Wind_Speed_Minimum_tl  Wind_Speed_Average_tl  \\\n",
       "2014-09-23 09:00:00+00:00                 -0.034                  0.572   \n",
       "2014-09-23 10:00:00+00:00                 -0.034                  0.572   \n",
       "2014-09-23 11:00:00+00:00                 -0.034                  2.113   \n",
       "2014-09-23 12:00:00+00:00                 -0.034                  3.683   \n",
       "2014-09-23 13:00:00+00:00                  0.000                  5.422   \n",
       "\n",
       "                           Wind_Speed_Maximum_tl  Wind_Direction_(deg.)_tl  \\\n",
       "2014-09-23 09:00:00+00:00                  6.927                     267.7   \n",
       "2014-09-23 10:00:00+00:00                  6.927                     267.7   \n",
       "2014-09-23 11:00:00+00:00                  8.540                     253.8   \n",
       "2014-09-23 12:00:00+00:00                 12.170                     236.7   \n",
       "2014-09-23 13:00:00+00:00                 16.640                     252.7   \n",
       "\n",
       "                           Precipitation_tl  24_hour_snowfall_tl  \\\n",
       "2014-09-23 09:00:00+00:00               0.0               30.880   \n",
       "2014-09-23 10:00:00+00:00               0.0                4.007   \n",
       "2014-09-23 11:00:00+00:00               0.0                3.077   \n",
       "2014-09-23 12:00:00+00:00               0.0                3.077   \n",
       "2014-09-23 13:00:00+00:00               0.0            -6999.000   \n",
       "\n",
       "                           Snow_Depth_tl  \n",
       "2014-09-23 09:00:00+00:00          4.007  \n",
       "2014-09-23 10:00:00+00:00         30.880  \n",
       "2014-09-23 11:00:00+00:00         31.350  \n",
       "2014-09-23 12:00:00+00:00         31.410  \n",
       "2014-09-23 13:00:00+00:00         30.820  "
      ]
     },
     "execution_count": 8,
     "metadata": {},
     "output_type": "execute_result"
    }
   ],
   "source": [
    "df = weather.reindex(rng, method='ffill')\n",
    "df.head()"
   ]
  },
  {
   "cell_type": "code",
   "execution_count": 9,
   "metadata": {},
   "outputs": [],
   "source": [
    "# start picking cleanest rough equivalent data; drop unnecessary stuff also\n",
    "\n",
    "for col in ['Battery_Voltage_(v)_tl',\n",
    "            'Battery_Voltage_(v)_m',]:\n",
    "    df.drop(col, axis=1, inplace=True)"
   ]
  },
  {
   "cell_type": "code",
   "execution_count": 10,
   "metadata": {},
   "outputs": [],
   "source": [
    "import matplotlib.pyplot as plt\n",
    "%matplotlib notebook"
   ]
  },
  {
   "cell_type": "code",
   "execution_count": 11,
   "metadata": {},
   "outputs": [
    {
     "data": {
      "text/plain": [
       "<matplotlib.axes._subplots.AxesSubplot at 0x7fcd341c52b0>"
      ]
     },
     "execution_count": 11,
     "metadata": {},
     "output_type": "execute_result"
    },
    {
     "data": {
      "image/png": "[encoded data removed]",
      "text/plain": [
       "<matplotlib.figure.Figure at 0x7fcd6b62b9e8>"
      ]
     },
     "metadata": {},
     "output_type": "display_data"
    }
   ],
   "source": [
    "weather['24_hour_snowfall_tl'].clip(0, 100).plot()   # data is pretty messed up..."
   ]
  },
  {
   "cell_type": "code",
   "execution_count": 12,
   "metadata": {},
   "outputs": [
    {
     "data": {
      "text/plain": [
       "<matplotlib.axes._subplots.AxesSubplot at 0x7fcd31d0e080>"
      ]
     },
     "execution_count": 12,
     "metadata": {},
     "output_type": "execute_result"
    },
    {
     "data": {
      "image/png": "[encoded data removed]",
      "text/plain": [
       "<matplotlib.figure.Figure at 0x7fcd3bf0a978>"
      ]
     },
     "metadata": {},
     "output_type": "display_data"
    }
   ],
   "source": [
    "df['Precipitation_tl'].plot()"
   ]
  },
  {
   "cell_type": "code",
   "execution_count": 13,
   "metadata": {},
   "outputs": [
    {
     "data": {
      "text/plain": [
       "<matplotlib.axes._subplots.AxesSubplot at 0x7fcd31abf588>"
      ]
     },
     "execution_count": 13,
     "metadata": {},
     "output_type": "execute_result"
    },
    {
     "data": {
      "image/png": "[encoded data removed]",
      "text/plain": [
       "<matplotlib.figure.Figure at 0x7fcd31ac8588>"
      ]
     },
     "metadata": {},
     "output_type": "display_data"
    }
   ],
   "source": [
    "df['Precipitation_m'].plot()"
   ]
  },
  {
   "cell_type": "code",
   "execution_count": 14,
   "metadata": {},
   "outputs": [],
   "source": [
    "df['precip'] = np.mean([df.Precipitation_m.values, df.Precipitation_tl.values], axis=0)"
   ]
  },
  {
   "cell_type": "code",
   "execution_count": 15,
   "metadata": {},
   "outputs": [
    {
     "data": {
      "text/plain": [
       "<matplotlib.axes._subplots.AxesSubplot at 0x7fcd31842390>"
      ]
     },
     "execution_count": 15,
     "metadata": {},
     "output_type": "execute_result"
    },
    {
     "data": {
      "image/png": "[encoded data removed]",
      "text/plain": [
       "<matplotlib.figure.Figure at 0x7fcd31846ef0>"
      ]
     },
     "metadata": {},
     "output_type": "display_data"
    }
   ],
   "source": [
    "df.precip.plot()"
   ]
  },
  {
   "cell_type": "code",
   "execution_count": 16,
   "metadata": {},
   "outputs": [
    {
     "data": {
      "text/plain": [
       "<matplotlib.axes._subplots.AxesSubplot at 0x7fcd315af7f0>"
      ]
     },
     "execution_count": 16,
     "metadata": {},
     "output_type": "execute_result"
    },
    {
     "data": {
      "image/png": "[encoded data removed]",
      "text/plain": [
       "<matplotlib.figure.Figure at 0x7fcd315ab860>"
      ]
     },
     "metadata": {},
     "output_type": "display_data"
    }
   ],
   "source": [
    "df.Temperature_tl.plot()   # woo"
   ]
  },
  {
   "cell_type": "code",
   "execution_count": 17,
   "metadata": {},
   "outputs": [
    {
     "data": {
      "text/plain": [
       "<matplotlib.axes._subplots.AxesSubplot at 0x7fcd3130c160>"
      ]
     },
     "execution_count": 17,
     "metadata": {},
     "output_type": "execute_result"
    },
    {
     "data": {
      "image/png": "[encoded data removed]",
      "text/plain": [
       "<matplotlib.figure.Figure at 0x7fcd3131c470>"
      ]
     },
     "metadata": {},
     "output_type": "display_data"
    }
   ],
   "source": [
    "df.Temperature_m.plot()   # woo"
   ]
  },
  {
   "cell_type": "code",
   "execution_count": 18,
   "metadata": {},
   "outputs": [
    {
     "data": {
      "text/plain": [
       "<matplotlib.axes._subplots.AxesSubplot at 0x7fcd3130c668>"
      ]
     },
     "execution_count": 18,
     "metadata": {},
     "output_type": "execute_result"
    },
    {
     "data": {
      "image/png": "[encoded data removed]",
      "text/plain": [
       "<matplotlib.figure.Figure at 0x7fcd31d35c88>"
      ]
     },
     "metadata": {},
     "output_type": "display_data"
    }
   ],
   "source": [
    "df.Wind_Speed_Average_tl.plot()"
   ]
  },
  {
   "cell_type": "code",
   "execution_count": 19,
   "metadata": {},
   "outputs": [
    {
     "data": {
      "text/plain": [
       "Index(['Temperature_m', 'Relative_Humidity_m', 'Precipitation_m',\n",
       "       '24_hour_snowfall_m', 'Snow_Depth_m', 'Barometric_Pressure_(mb)_m',\n",
       "       'Temperature_tl', 'Relative_Humidity_tl', 'Wind_Speed_Minimum_tl',\n",
       "       'Wind_Speed_Average_tl', 'Wind_Speed_Maximum_tl',\n",
       "       'Wind_Direction_(deg.)_tl', 'Precipitation_tl', '24_hour_snowfall_tl',\n",
       "       'Snow_Depth_tl', 'precip'],\n",
       "      dtype='object')"
      ]
     },
     "execution_count": 19,
     "metadata": {},
     "output_type": "execute_result"
    }
   ],
   "source": [
    "df.columns"
   ]
  },
  {
   "cell_type": "code",
   "execution_count": 20,
   "metadata": {},
   "outputs": [],
   "source": [
    "df.drop(['Precipitation_m', 'Precipitation_tl', '24_hour_snowfall_tl', '24_hour_snowfall_m'], axis=1, inplace=True)"
   ]
  },
  {
   "cell_type": "code",
   "execution_count": 21,
   "metadata": {},
   "outputs": [
    {
     "data": {
      "text/plain": [
       "Index(['Temperature_m', 'Relative_Humidity_m', 'Snow_Depth_m',\n",
       "       'Barometric_Pressure_(mb)_m', 'Temperature_tl', 'Relative_Humidity_tl',\n",
       "       'Wind_Speed_Minimum_tl', 'Wind_Speed_Average_tl',\n",
       "       'Wind_Speed_Maximum_tl', 'Wind_Direction_(deg.)_tl', 'Snow_Depth_tl',\n",
       "       'precip'],\n",
       "      dtype='object')"
      ]
     },
     "execution_count": 21,
     "metadata": {},
     "output_type": "execute_result"
    }
   ],
   "source": [
    "df.columns"
   ]
  },
  {
   "cell_type": "code",
   "execution_count": 22,
   "metadata": {},
   "outputs": [
    {
     "data": {
      "text/plain": [
       "<matplotlib.axes._subplots.AxesSubplot at 0x7fcd30e6b470>"
      ]
     },
     "execution_count": 22,
     "metadata": {},
     "output_type": "execute_result"
    },
    {
     "data": {
      "image/png": "[encoded data removed]",
      "text/plain": [
       "<matplotlib.figure.Figure at 0x7fcd30e64198>"
      ]
     },
     "metadata": {},
     "output_type": "display_data"
    }
   ],
   "source": [
    "df.Snow_Depth_m.clip(0).rolling(96).median().fillna(method='ffill').plot()"
   ]
  },
  {
   "cell_type": "code",
   "execution_count": 23,
   "metadata": {},
   "outputs": [
    {
     "data": {
      "text/plain": [
       "<matplotlib.axes._subplots.AxesSubplot at 0x7fcd30c46160>"
      ]
     },
     "execution_count": 23,
     "metadata": {},
     "output_type": "execute_result"
    },
    {
     "data": {
      "image/png": "[encoded data removed]",
      "text/plain": [
       "<matplotlib.figure.Figure at 0x7fcd30bce2b0>"
      ]
     },
     "metadata": {},
     "output_type": "display_data"
    }
   ],
   "source": [
    "df.Snow_Depth_tl.clip(0).rolling(96).median().fillna(method='ffill').plot()"
   ]
  },
  {
   "cell_type": "code",
   "execution_count": 24,
   "metadata": {},
   "outputs": [
    {
     "data": {
      "text/plain": [
       "<matplotlib.axes._subplots.AxesSubplot at 0x7fcd309c1470>"
      ]
     },
     "execution_count": 24,
     "metadata": {},
     "output_type": "execute_result"
    },
    {
     "data": {
      "image/png": "[encoded data removed]",
      "text/plain": [
       "<matplotlib.figure.Figure at 0x7fcd30e64f98>"
      ]
     },
     "metadata": {},
     "output_type": "display_data"
    }
   ],
   "source": [
    "df['depth'] = np.minimum(df.Snow_Depth_tl.clip(0).rolling(96).median().fillna(method='ffill'),\n",
    "                         df.Snow_Depth_m.clip(0).rolling(96).median().fillna(method='ffill'))\n",
    "df.depth.plot()"
   ]
  },
  {
   "cell_type": "code",
   "execution_count": 25,
   "metadata": {},
   "outputs": [
    {
     "data": {
      "text/plain": [
       "Index(['Temperature_m', 'Relative_Humidity_m', 'Barometric_Pressure_(mb)_m',\n",
       "       'Temperature_tl', 'Relative_Humidity_tl', 'Wind_Speed_Minimum_tl',\n",
       "       'Wind_Speed_Average_tl', 'Wind_Speed_Maximum_tl',\n",
       "       'Wind_Direction_(deg.)_tl', 'precip', 'depth'],\n",
       "      dtype='object')"
      ]
     },
     "execution_count": 25,
     "metadata": {},
     "output_type": "execute_result"
    }
   ],
   "source": [
    "df.drop(['Snow_Depth_tl', 'Snow_Depth_m'], axis=1, inplace=True)\n",
    "df.columns"
   ]
  },
  {
   "cell_type": "code",
   "execution_count": 26,
   "metadata": {},
   "outputs": [
    {
     "data": {
      "text/plain": [
       "<matplotlib.axes._subplots.AxesSubplot at 0x7fcd30733ba8>"
      ]
     },
     "execution_count": 26,
     "metadata": {},
     "output_type": "execute_result"
    },
    {
     "data": {
      "image/png": "[encoded data removed]",
      "text/plain": [
       "<matplotlib.figure.Figure at 0x7fcd3131cbe0>"
      ]
     },
     "metadata": {},
     "output_type": "display_data"
    }
   ],
   "source": [
    "df.Relative_Humidity_tl.plot()"
   ]
  },
  {
   "cell_type": "code",
   "execution_count": 27,
   "metadata": {},
   "outputs": [
    {
     "data": {
      "text/plain": [
       "Index(['Temperature_m', 'Relative_Humidity_m', 'Temperature_tl',\n",
       "       'Relative_Humidity_tl', 'Wind_Speed_Minimum_tl',\n",
       "       'Wind_Speed_Average_tl', 'Wind_Speed_Maximum_tl',\n",
       "       'Wind_Direction_(deg.)_tl', 'precip', 'depth', 'pressure'],\n",
       "      dtype='object')"
      ]
     },
     "execution_count": 27,
     "metadata": {},
     "output_type": "execute_result"
    }
   ],
   "source": [
    "df['pressure'] = df['Barometric_Pressure_(mb)_m'].clip(990)\n",
    "df.drop('Barometric_Pressure_(mb)_m', axis=1, inplace=True)\n",
    "df.columns"
   ]
  },
  {
   "cell_type": "code",
   "execution_count": 28,
   "metadata": {},
   "outputs": [
    {
     "data": {
      "text/plain": [
       "<matplotlib.axes._subplots.AxesSubplot at 0x7fcd30733c50>"
      ]
     },
     "execution_count": 28,
     "metadata": {},
     "output_type": "execute_result"
    },
    {
     "data": {
      "image/png": "[encoded data removed]",
      "text/plain": [
       "<matplotlib.figure.Figure at 0x7fcd3049c1d0>"
      ]
     },
     "metadata": {},
     "output_type": "display_data"
    }
   ],
   "source": [
    "df.plot()"
   ]
  },
  {
   "cell_type": "code",
   "execution_count": 29,
   "metadata": {},
   "outputs": [],
   "source": [
    "# fill all values with something reasonable...\n",
    "df.fillna(method='backfill', inplace=True)\n",
    "df.fillna(method='ffill', inplace=True)"
   ]
  },
  {
   "cell_type": "code",
   "execution_count": 30,
   "metadata": {},
   "outputs": [
    {
     "data": {
      "text/html": [
       "<div>\n",
       "<style scoped>\n",
       "    .dataframe tbody tr th:only-of-type {\n",
       "        vertical-align: middle;\n",
       "    }\n",
       "\n",
       "    .dataframe tbody tr th {\n",
       "        vertical-align: top;\n",
       "    }\n",
       "\n",
       "    .dataframe thead th {\n",
       "        text-align: right;\n",
       "    }\n",
       "</style>\n",
       "<table border=\"1\" class=\"dataframe\">\n",
       "  <thead>\n",
       "    <tr style=\"text-align: right;\">\n",
       "      <th></th>\n",
       "      <th>Temperature_m</th>\n",
       "      <th>Relative_Humidity_m</th>\n",
       "      <th>Temperature_tl</th>\n",
       "      <th>Relative_Humidity_tl</th>\n",
       "      <th>Wind_Speed_Minimum_tl</th>\n",
       "      <th>Wind_Speed_Average_tl</th>\n",
       "      <th>Wind_Speed_Maximum_tl</th>\n",
       "      <th>Wind_Direction_(deg.)_tl</th>\n",
       "      <th>precip</th>\n",
       "      <th>depth</th>\n",
       "      <th>pressure</th>\n",
       "    </tr>\n",
       "  </thead>\n",
       "  <tbody>\n",
       "    <tr>\n",
       "      <th>count</th>\n",
       "      <td>28150.000000</td>\n",
       "      <td>28150.000000</td>\n",
       "      <td>28150.000000</td>\n",
       "      <td>28150.000000</td>\n",
       "      <td>28150.000000</td>\n",
       "      <td>28150.000000</td>\n",
       "      <td>28150.000000</td>\n",
       "      <td>28150.000000</td>\n",
       "      <td>28150.000000</td>\n",
       "      <td>28150.000000</td>\n",
       "      <td>28150.000000</td>\n",
       "    </tr>\n",
       "    <tr>\n",
       "      <th>mean</th>\n",
       "      <td>41.357159</td>\n",
       "      <td>69.047897</td>\n",
       "      <td>40.471975</td>\n",
       "      <td>71.811680</td>\n",
       "      <td>1.872076</td>\n",
       "      <td>5.996870</td>\n",
       "      <td>13.226087</td>\n",
       "      <td>232.415416</td>\n",
       "      <td>0.014691</td>\n",
       "      <td>35.256045</td>\n",
       "      <td>1016.179698</td>\n",
       "    </tr>\n",
       "    <tr>\n",
       "      <th>std</th>\n",
       "      <td>14.172212</td>\n",
       "      <td>24.561728</td>\n",
       "      <td>14.490341</td>\n",
       "      <td>28.447059</td>\n",
       "      <td>2.628059</td>\n",
       "      <td>4.855112</td>\n",
       "      <td>8.168596</td>\n",
       "      <td>106.050964</td>\n",
       "      <td>0.041274</td>\n",
       "      <td>42.242857</td>\n",
       "      <td>6.090327</td>\n",
       "    </tr>\n",
       "    <tr>\n",
       "      <th>min</th>\n",
       "      <td>3.229000</td>\n",
       "      <td>4.673000</td>\n",
       "      <td>5.743000</td>\n",
       "      <td>4.038000</td>\n",
       "      <td>-27.940000</td>\n",
       "      <td>-0.036000</td>\n",
       "      <td>0.000000</td>\n",
       "      <td>0.005000</td>\n",
       "      <td>0.000000</td>\n",
       "      <td>0.000000</td>\n",
       "      <td>990.000000</td>\n",
       "    </tr>\n",
       "    <tr>\n",
       "      <th>25%</th>\n",
       "      <td>30.882500</td>\n",
       "      <td>48.290000</td>\n",
       "      <td>29.210000</td>\n",
       "      <td>46.775000</td>\n",
       "      <td>-0.067000</td>\n",
       "      <td>1.504000</td>\n",
       "      <td>7.170000</td>\n",
       "      <td>106.025000</td>\n",
       "      <td>0.000000</td>\n",
       "      <td>2.895000</td>\n",
       "      <td>1013.155000</td>\n",
       "    </tr>\n",
       "    <tr>\n",
       "      <th>50%</th>\n",
       "      <td>39.390000</td>\n",
       "      <td>76.070000</td>\n",
       "      <td>37.910000</td>\n",
       "      <td>82.600000</td>\n",
       "      <td>0.000000</td>\n",
       "      <td>5.584500</td>\n",
       "      <td>12.960000</td>\n",
       "      <td>286.800000</td>\n",
       "      <td>0.000000</td>\n",
       "      <td>11.255000</td>\n",
       "      <td>1017.269000</td>\n",
       "    </tr>\n",
       "    <tr>\n",
       "      <th>75%</th>\n",
       "      <td>50.840000</td>\n",
       "      <td>91.900000</td>\n",
       "      <td>51.070000</td>\n",
       "      <td>99.400000</td>\n",
       "      <td>3.634000</td>\n",
       "      <td>9.320000</td>\n",
       "      <td>18.410000</td>\n",
       "      <td>310.500000</td>\n",
       "      <td>0.005000</td>\n",
       "      <td>69.320000</td>\n",
       "      <td>1020.180000</td>\n",
       "    </tr>\n",
       "    <tr>\n",
       "      <th>max</th>\n",
       "      <td>86.800000</td>\n",
       "      <td>100.000000</td>\n",
       "      <td>85.000000</td>\n",
       "      <td>100.000000</td>\n",
       "      <td>17.790000</td>\n",
       "      <td>41.900000</td>\n",
       "      <td>72.800000</td>\n",
       "      <td>360.000000</td>\n",
       "      <td>0.875000</td>\n",
       "      <td>143.700000</td>\n",
       "      <td>1034.949000</td>\n",
       "    </tr>\n",
       "  </tbody>\n",
       "</table>\n",
       "</div>"
      ],
      "text/plain": [
       "       Temperature_m  Relative_Humidity_m  Temperature_tl  \\\n",
       "count   28150.000000         28150.000000    28150.000000   \n",
       "mean       41.357159            69.047897       40.471975   \n",
       "std        14.172212            24.561728       14.490341   \n",
       "min         3.229000             4.673000        5.743000   \n",
       "25%        30.882500            48.290000       29.210000   \n",
       "50%        39.390000            76.070000       37.910000   \n",
       "75%        50.840000            91.900000       51.070000   \n",
       "max        86.800000           100.000000       85.000000   \n",
       "\n",
       "       Relative_Humidity_tl  Wind_Speed_Minimum_tl  Wind_Speed_Average_tl  \\\n",
       "count          28150.000000           28150.000000           28150.000000   \n",
       "mean              71.811680               1.872076               5.996870   \n",
       "std               28.447059               2.628059               4.855112   \n",
       "min                4.038000             -27.940000              -0.036000   \n",
       "25%               46.775000              -0.067000               1.504000   \n",
       "50%               82.600000               0.000000               5.584500   \n",
       "75%               99.400000               3.634000               9.320000   \n",
       "max              100.000000              17.790000              41.900000   \n",
       "\n",
       "       Wind_Speed_Maximum_tl  Wind_Direction_(deg.)_tl        precip  \\\n",
       "count           28150.000000              28150.000000  28150.000000   \n",
       "mean               13.226087                232.415416      0.014691   \n",
       "std                 8.168596                106.050964      0.041274   \n",
       "min                 0.000000                  0.005000      0.000000   \n",
       "25%                 7.170000                106.025000      0.000000   \n",
       "50%                12.960000                286.800000      0.000000   \n",
       "75%                18.410000                310.500000      0.005000   \n",
       "max                72.800000                360.000000      0.875000   \n",
       "\n",
       "              depth      pressure  \n",
       "count  28150.000000  28150.000000  \n",
       "mean      35.256045   1016.179698  \n",
       "std       42.242857      6.090327  \n",
       "min        0.000000    990.000000  \n",
       "25%        2.895000   1013.155000  \n",
       "50%       11.255000   1017.269000  \n",
       "75%       69.320000   1020.180000  \n",
       "max      143.700000   1034.949000  "
      ]
     },
     "execution_count": 30,
     "metadata": {},
     "output_type": "execute_result"
    }
   ],
   "source": [
    "df.describe()"
   ]
  },
  {
   "cell_type": "code",
   "execution_count": 31,
   "metadata": {},
   "outputs": [],
   "source": [
    "df.to_csv('clean_weather_data.csv')"
   ]
  },
  {
   "cell_type": "code",
   "execution_count": null,
   "metadata": {},
   "outputs": [],
   "source": []
  }
 ],
 "metadata": {
  "kernelspec": {
   "display_name": "Python 3",
   "language": "python",
   "name": "python3"
  },
  "language_info": {
   "codemirror_mode": {
    "name": "ipython",
    "version": 3
   },
   "file_extension": ".py",
   "mimetype": "text/x-python",
   "name": "python",
   "nbconvert_exporter": "python",
   "pygments_lexer": "ipython3",
   "version": "3.5.2"
  }
 },
 "nbformat": 4,
 "nbformat_minor": 2
}
