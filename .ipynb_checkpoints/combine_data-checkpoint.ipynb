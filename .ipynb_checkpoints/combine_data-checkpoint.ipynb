{
 "cells": [
  {
   "cell_type": "code",
   "execution_count": 2,
   "metadata": {},
   "outputs": [
    {
     "data": {
      "text/plain": [
       "['avy_X-y.csv',\n",
       " 'forecasts_no_dups.csv',\n",
       " 'clean_weather_data.csv',\n",
       " 'timberline_cleaned_weather.csv',\n",
       " 'cleaner_forecast_data.csv']"
      ]
     },
     "execution_count": 2,
     "metadata": {},
     "output_type": "execute_result"
    }
   ],
   "source": [
    "import pandas as pd\n",
    "import os\n",
    "import numpy as np\n",
    "import matplotlib.pyplot as plt\n",
    "import datetime\n",
    "%matplotlib inline\n",
    "\n",
    "os.listdir('datasets/')"
   ]
  },
  {
   "cell_type": "code",
   "execution_count": 3,
   "metadata": {},
   "outputs": [],
   "source": [
    "forecasts = pd.read_csv('datasets/forecasts_no_dups.csv')\n",
    "forecasts.forecast_for_date = pd.to_datetime(forecasts.forecast_for_date)"
   ]
  },
  {
   "cell_type": "code",
   "execution_count": 4,
   "metadata": {},
   "outputs": [],
   "source": [
    "# set forecast to 12:00pm - on average, peak accuracy for a given forecast would be at noon although it varies...\n",
    "forecasts.set_index(forecasts.forecast_for_date.apply(lambda x: x + datetime.timedelta(hours=12)), inplace=True)"
   ]
  },
  {
   "cell_type": "code",
   "execution_count": 5,
   "metadata": {},
   "outputs": [
    {
     "data": {
      "text/plain": [
       "DatetimeIndex(['2013-12-11 12:00:00', '2013-12-12 12:00:00',\n",
       "               '2013-12-13 12:00:00', '2013-12-14 12:00:00',\n",
       "               '2013-12-15 12:00:00', '2013-12-16 12:00:00',\n",
       "               '2013-12-17 12:00:00', '2013-12-18 12:00:00',\n",
       "               '2013-12-19 12:00:00', '2013-12-20 12:00:00',\n",
       "               ...\n",
       "               '2017-11-28 12:00:00', '2017-11-29 12:00:00',\n",
       "               '2017-11-30 12:00:00', '2017-12-01 12:00:00',\n",
       "               '2017-12-02 12:00:00', '2017-12-03 12:00:00',\n",
       "               '2017-12-04 12:00:00', '2017-12-05 12:00:00',\n",
       "               '2017-12-06 12:00:00', '2017-12-07 12:00:00'],\n",
       "              dtype='datetime64[ns]', name='forecast_for_date', length=547, freq=None)"
      ]
     },
     "execution_count": 5,
     "metadata": {},
     "output_type": "execute_result"
    }
   ],
   "source": [
    "forecasts.index"
   ]
  },
  {
   "cell_type": "code",
   "execution_count": 6,
   "metadata": {},
   "outputs": [],
   "source": [
    "weather = pd.read_csv('datasets/clean_weather_data.csv', index_col='Date/Time (PST)')\n",
    "weather.index = pd.to_datetime(weather.index)"
   ]
  },
  {
   "cell_type": "code",
   "execution_count": 7,
   "metadata": {},
   "outputs": [
    {
     "data": {
      "text/plain": [
       "DatetimeIndex(['2014-09-23 09:00:00', '2014-09-23 10:00:00',\n",
       "               '2014-09-23 11:00:00', '2014-09-23 12:00:00',\n",
       "               '2014-09-23 13:00:00', '2014-09-23 14:00:00',\n",
       "               '2014-09-23 15:00:00', '2014-09-23 16:00:00',\n",
       "               '2014-09-23 17:00:00', '2014-09-23 18:00:00',\n",
       "               ...\n",
       "               '2017-12-08 03:00:00', '2017-12-08 04:00:00',\n",
       "               '2017-12-08 05:00:00', '2017-12-08 06:00:00',\n",
       "               '2017-12-08 07:00:00', '2017-12-08 08:00:00',\n",
       "               '2017-12-08 09:00:00', '2017-12-08 10:00:00',\n",
       "               '2017-12-08 11:00:00', '2017-12-08 12:00:00'],\n",
       "              dtype='datetime64[ns]', name='Date/Time (PST)', length=28094, freq=None)"
      ]
     },
     "execution_count": 7,
     "metadata": {},
     "output_type": "execute_result"
    }
   ],
   "source": [
    "weather.index"
   ]
  },
  {
   "cell_type": "code",
   "execution_count": 8,
   "metadata": {},
   "outputs": [
    {
     "data": {
      "text/plain": [
       "Index(['Temperature_m', 'Relative_Humidity_m', 'Temperature_tl',\n",
       "       'Relative_Humidity_tl', 'Wind_Speed_Average_tl',\n",
       "       'Wind_Speed_Maximum_tl', 'Wind_Direction_(deg.)_tl', 'precip', 'depth',\n",
       "       'pressure', 'forecast_for_date', 'above', 'below', 'discussion',\n",
       "       'sizes', 'octagons', 'near', 'likelihoods', 'problems', 'storm_slabs',\n",
       "       'wet_slabs', 'persistent', 'wind_slab', 'loose_wet', 'glide',\n",
       "       'cornices', 'loose_dry'],\n",
       "      dtype='object')"
      ]
     },
     "execution_count": 8,
     "metadata": {},
     "output_type": "execute_result"
    }
   ],
   "source": [
    "combined = weather.join(forecasts)\n",
    "combined.columns"
   ]
  },
  {
   "cell_type": "code",
   "execution_count": 9,
   "metadata": {},
   "outputs": [],
   "source": [
    "forecast_cols = ['above', 'below', 'near', 'storm_slabs', 'wet_slabs', 'persistent', 'wind_slab', 'loose_wet', 'glide',\n",
    "'cornices', 'loose_dry',]\n",
    "for col in forecast_cols:\n",
    "    combined[col] = combined[col].interpolate(limit=24)"
   ]
  },
  {
   "cell_type": "code",
   "execution_count": 10,
   "metadata": {},
   "outputs": [
    {
     "data": {
      "text/plain": [
       "Temperature_m               28096\n",
       "Relative_Humidity_m         28096\n",
       "Temperature_tl              28096\n",
       "Relative_Humidity_tl        28096\n",
       "Wind_Speed_Average_tl       28096\n",
       "Wind_Speed_Maximum_tl       28096\n",
       "Wind_Direction_(deg.)_tl    28096\n",
       "precip                      28096\n",
       "depth                       28096\n",
       "pressure                    28096\n",
       "forecast_for_date             414\n",
       "above                        9911\n",
       "below                        9911\n",
       "discussion                    414\n",
       "sizes                         414\n",
       "octagons                      414\n",
       "near                         9911\n",
       "likelihoods                   414\n",
       "problems                      414\n",
       "storm_slabs                  9911\n",
       "wet_slabs                    9911\n",
       "persistent                   9911\n",
       "wind_slab                    9911\n",
       "loose_wet                    9911\n",
       "glide                        9911\n",
       "cornices                     9911\n",
       "loose_dry                    9911\n",
       "dtype: int64"
      ]
     },
     "execution_count": 10,
     "metadata": {},
     "output_type": "execute_result"
    }
   ],
   "source": [
    "combined.count()"
   ]
  },
  {
   "cell_type": "code",
   "execution_count": 11,
   "metadata": {},
   "outputs": [],
   "source": [
    "combined.discussion.fillna(method='ffill', limit=24, inplace=True)  # propagate rest of forecast over whole day"
   ]
  },
  {
   "cell_type": "code",
   "execution_count": 12,
   "metadata": {},
   "outputs": [
    {
     "data": {
      "text/plain": [
       "Temperature_m               28096\n",
       "Relative_Humidity_m         28096\n",
       "Temperature_tl              28096\n",
       "Relative_Humidity_tl        28096\n",
       "Wind_Speed_Average_tl       28096\n",
       "Wind_Speed_Maximum_tl       28096\n",
       "Wind_Direction_(deg.)_tl    28096\n",
       "precip                      28096\n",
       "depth                       28096\n",
       "pressure                    28096\n",
       "forecast_for_date             414\n",
       "above                        9911\n",
       "below                        9911\n",
       "discussion                   9911\n",
       "sizes                         414\n",
       "octagons                      414\n",
       "near                         9911\n",
       "likelihoods                   414\n",
       "problems                      414\n",
       "storm_slabs                  9911\n",
       "wet_slabs                    9911\n",
       "persistent                   9911\n",
       "wind_slab                    9911\n",
       "loose_wet                    9911\n",
       "glide                        9911\n",
       "cornices                     9911\n",
       "loose_dry                    9911\n",
       "dtype: int64"
      ]
     },
     "execution_count": 12,
     "metadata": {},
     "output_type": "execute_result"
    }
   ],
   "source": [
    "combined.count()"
   ]
  },
  {
   "cell_type": "code",
   "execution_count": null,
   "metadata": {},
   "outputs": [],
   "source": [
    "# let's see how ugly it is to extract additional data from images: sizes and octagons\n",
    "import matplotlib.pyplot as plt\n",
    "from PIL import Image\n",
    "import requests\n",
    "import json\n",
    "from io import BytesIO\n",
    "%matplotlib inline"
   ]
  },
  {
   "cell_type": "code",
   "execution_count": null,
   "metadata": {},
   "outputs": [],
   "source": [
    "print(len(combined.octagons.unique()))\n",
    "combined.octagons.unique()"
   ]
  },
  {
   "cell_type": "code",
   "execution_count": null,
   "metadata": {},
   "outputs": [],
   "source": [
    "print(len(combined.sizes.unique()))  # 50 discrete urls\n",
    "combined.sizes.unique()"
   ]
  },
  {
   "cell_type": "code",
   "execution_count": null,
   "metadata": {},
   "outputs": [],
   "source": [
    "combined.sizes[-1]  # json doesn't like single-quotes"
   ]
  },
  {
   "cell_type": "code",
   "execution_count": null,
   "metadata": {},
   "outputs": [],
   "source": [
    "imgs = json.loads(combined.sizes[-1].replace('\\'', '\\\"'))\n",
    "imgs[0]"
   ]
  },
  {
   "cell_type": "code",
   "execution_count": null,
   "metadata": {},
   "outputs": [],
   "source": [
    "data = requests.get(imgs[0]).content\n",
    "img = Image.open(BytesIO(data))"
   ]
  },
  {
   "cell_type": "code",
   "execution_count": null,
   "metadata": {},
   "outputs": [],
   "source": [
    "plt.imshow(img)   # would be easier with sizes to extract information from the filename;"
   ]
  },
  {
   "cell_type": "code",
   "execution_count": null,
   "metadata": {},
   "outputs": [],
   "source": [
    "oct_url = 'https://www.nwac.us/avalanche-forecast/octagon/problem/1985.png' # from col 'octagons'\n",
    "octagon = requests.get(oct_url).content\n",
    "oct_img = Image.open(BytesIO(octagon))\n",
    "plt.imshow(oct_img)\n",
    "# too many different octagons to worry about this right now... "
   ]
  },
  {
   "cell_type": "code",
   "execution_count": 13,
   "metadata": {},
   "outputs": [],
   "source": [
    "# 'discussion' is full html files; we just made one-hot for 'problems' (which is a list)\n",
    "# if we're dropping that we can also drop the images associated with each item in problems...\n",
    "combined.drop(['forecast_for_date', 'problems', 'likelihoods', 'octagons', 'sizes'], axis=1, inplace=True)"
   ]
  },
  {
   "cell_type": "code",
   "execution_count": 14,
   "metadata": {},
   "outputs": [],
   "source": [
    "# save this dataset to file to use elsewhere\n",
    "combined.to_csv('datasets/avy_X-y.csv')"
   ]
  },
  {
   "cell_type": "code",
   "execution_count": null,
   "metadata": {},
   "outputs": [],
   "source": []
  }
 ],
 "metadata": {
  "kernelspec": {
   "display_name": "Python 3",
   "language": "python",
   "name": "python3"
  },
  "language_info": {
   "codemirror_mode": {
    "name": "ipython",
    "version": 3
   },
   "file_extension": ".py",
   "mimetype": "text/x-python",
   "name": "python",
   "nbconvert_exporter": "python",
   "pygments_lexer": "ipython3",
   "version": "3.5.2"
  }
 },
 "nbformat": 4,
 "nbformat_minor": 2
}
