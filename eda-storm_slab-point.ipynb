{
 "cells": [
  {
   "cell_type": "code",
   "execution_count": 1,
   "metadata": {},
   "outputs": [],
   "source": [
    "import pandas as pd\n",
    "import numpy as np\n",
    "import matplotlib.pyplot as plt\n",
    "from scipy.fftpack import dct\n",
    "from tqdm import tqdm\n",
    "\n",
    "%matplotlib inline\n",
    "\n",
    "df = pd.read_csv('datasets/avy_X-y.csv', index_col='Unnamed: 0')"
   ]
  },
  {
   "cell_type": "code",
   "execution_count": 2,
   "metadata": {},
   "outputs": [
    {
     "name": "stdout",
     "output_type": "stream",
     "text": [
      "Index(['Temperature_m', 'Relative_Humidity_m', 'Temperature_tl',\n",
      "       'Relative_Humidity_tl', 'Wind_Speed_Average_tl',\n",
      "       'Wind_Speed_Maximum_tl', 'Wind_Direction_(deg.)_tl', 'precip', 'depth',\n",
      "       'pressure', 'above', 'below', 'discussion', 'near', 'storm_slabs',\n",
      "       'wet_slabs', 'persistent', 'wind_slab', 'loose_wet', 'glide',\n",
      "       'cornices', 'loose_dry'],\n",
      "      dtype='object')\n",
      "28096\n"
     ]
    },
    {
     "data": {
      "text/plain": [
       "Temperature_m               28096\n",
       "Relative_Humidity_m         28096\n",
       "Temperature_tl              28096\n",
       "Relative_Humidity_tl        28096\n",
       "Wind_Speed_Average_tl       28096\n",
       "Wind_Speed_Maximum_tl       28096\n",
       "Wind_Direction_(deg.)_tl    28096\n",
       "precip                      28096\n",
       "depth                       28096\n",
       "pressure                    28096\n",
       "above                        9911\n",
       "below                        9911\n",
       "discussion                   9911\n",
       "near                         9911\n",
       "storm_slabs                  9911\n",
       "wet_slabs                    9911\n",
       "persistent                   9911\n",
       "wind_slab                    9911\n",
       "loose_wet                    9911\n",
       "glide                        9911\n",
       "cornices                     9911\n",
       "loose_dry                    9911\n",
       "dtype: int64"
      ]
     },
     "execution_count": 2,
     "metadata": {},
     "output_type": "execute_result"
    }
   ],
   "source": [
    "print(df.columns)\n",
    "print(len(df))\n",
    "df.count()"
   ]
  },
  {
   "cell_type": "code",
   "execution_count": 3,
   "metadata": {},
   "outputs": [
    {
     "data": {
      "text/html": [
       "<div>\n",
       "<style scoped>\n",
       "    .dataframe tbody tr th:only-of-type {\n",
       "        vertical-align: middle;\n",
       "    }\n",
       "\n",
       "    .dataframe tbody tr th {\n",
       "        vertical-align: top;\n",
       "    }\n",
       "\n",
       "    .dataframe thead th {\n",
       "        text-align: right;\n",
       "    }\n",
       "</style>\n",
       "<table border=\"1\" class=\"dataframe\">\n",
       "  <thead>\n",
       "    <tr style=\"text-align: right;\">\n",
       "      <th></th>\n",
       "      <th>Temperature_m</th>\n",
       "      <th>Relative_Humidity_m</th>\n",
       "      <th>Temperature_tl</th>\n",
       "      <th>Relative_Humidity_tl</th>\n",
       "      <th>Wind_Speed_Average_tl</th>\n",
       "      <th>Wind_Speed_Maximum_tl</th>\n",
       "      <th>Wind_Direction_(deg.)_tl</th>\n",
       "      <th>precip</th>\n",
       "      <th>depth</th>\n",
       "      <th>pressure</th>\n",
       "      <th>...</th>\n",
       "      <th>below</th>\n",
       "      <th>near</th>\n",
       "      <th>storm_slabs</th>\n",
       "      <th>wet_slabs</th>\n",
       "      <th>persistent</th>\n",
       "      <th>wind_slab</th>\n",
       "      <th>loose_wet</th>\n",
       "      <th>glide</th>\n",
       "      <th>cornices</th>\n",
       "      <th>loose_dry</th>\n",
       "    </tr>\n",
       "  </thead>\n",
       "  <tbody>\n",
       "    <tr>\n",
       "      <th>count</th>\n",
       "      <td>28096.000000</td>\n",
       "      <td>28096.000000</td>\n",
       "      <td>28096.000000</td>\n",
       "      <td>28096.000000</td>\n",
       "      <td>28096.000000</td>\n",
       "      <td>28096.000000</td>\n",
       "      <td>28096.000000</td>\n",
       "      <td>28096.000000</td>\n",
       "      <td>28096.000000</td>\n",
       "      <td>28096.000000</td>\n",
       "      <td>...</td>\n",
       "      <td>9911.000000</td>\n",
       "      <td>9911.000000</td>\n",
       "      <td>9911.000000</td>\n",
       "      <td>9911.000000</td>\n",
       "      <td>9911.00000</td>\n",
       "      <td>9911.000000</td>\n",
       "      <td>9911.000000</td>\n",
       "      <td>9911.000000</td>\n",
       "      <td>9911.000000</td>\n",
       "      <td>9911.000000</td>\n",
       "    </tr>\n",
       "    <tr>\n",
       "      <th>mean</th>\n",
       "      <td>41.340654</td>\n",
       "      <td>69.038744</td>\n",
       "      <td>40.459413</td>\n",
       "      <td>71.808071</td>\n",
       "      <td>5.993168</td>\n",
       "      <td>13.217519</td>\n",
       "      <td>232.426810</td>\n",
       "      <td>0.010876</td>\n",
       "      <td>35.254139</td>\n",
       "      <td>1016.176392</td>\n",
       "      <td>...</td>\n",
       "      <td>1.932926</td>\n",
       "      <td>2.332011</td>\n",
       "      <td>0.453088</td>\n",
       "      <td>0.031480</td>\n",
       "      <td>0.05212</td>\n",
       "      <td>0.802341</td>\n",
       "      <td>0.525207</td>\n",
       "      <td>0.008532</td>\n",
       "      <td>0.163998</td>\n",
       "      <td>0.036374</td>\n",
       "    </tr>\n",
       "    <tr>\n",
       "      <th>std</th>\n",
       "      <td>14.186632</td>\n",
       "      <td>24.548847</td>\n",
       "      <td>14.506174</td>\n",
       "      <td>28.415366</td>\n",
       "      <td>4.858733</td>\n",
       "      <td>8.173173</td>\n",
       "      <td>106.077977</td>\n",
       "      <td>0.034138</td>\n",
       "      <td>42.249978</td>\n",
       "      <td>6.085565</td>\n",
       "      <td>...</td>\n",
       "      <td>0.698447</td>\n",
       "      <td>0.704180</td>\n",
       "      <td>0.451705</td>\n",
       "      <td>0.152445</td>\n",
       "      <td>0.19421</td>\n",
       "      <td>0.378235</td>\n",
       "      <td>0.465231</td>\n",
       "      <td>0.085119</td>\n",
       "      <td>0.354426</td>\n",
       "      <td>0.171454</td>\n",
       "    </tr>\n",
       "    <tr>\n",
       "      <th>min</th>\n",
       "      <td>3.229000</td>\n",
       "      <td>4.673000</td>\n",
       "      <td>5.743000</td>\n",
       "      <td>4.038000</td>\n",
       "      <td>-0.036000</td>\n",
       "      <td>0.000000</td>\n",
       "      <td>0.005000</td>\n",
       "      <td>0.000000</td>\n",
       "      <td>0.000000</td>\n",
       "      <td>990.000000</td>\n",
       "      <td>...</td>\n",
       "      <td>1.000000</td>\n",
       "      <td>1.000000</td>\n",
       "      <td>0.000000</td>\n",
       "      <td>0.000000</td>\n",
       "      <td>0.00000</td>\n",
       "      <td>0.000000</td>\n",
       "      <td>0.000000</td>\n",
       "      <td>0.000000</td>\n",
       "      <td>0.000000</td>\n",
       "      <td>0.000000</td>\n",
       "    </tr>\n",
       "    <tr>\n",
       "      <th>25%</th>\n",
       "      <td>30.880000</td>\n",
       "      <td>48.297500</td>\n",
       "      <td>29.200000</td>\n",
       "      <td>46.807500</td>\n",
       "      <td>1.494000</td>\n",
       "      <td>7.160000</td>\n",
       "      <td>106.100000</td>\n",
       "      <td>0.000000</td>\n",
       "      <td>2.905000</td>\n",
       "      <td>1013.212000</td>\n",
       "      <td>...</td>\n",
       "      <td>1.291667</td>\n",
       "      <td>2.000000</td>\n",
       "      <td>0.000000</td>\n",
       "      <td>0.000000</td>\n",
       "      <td>0.00000</td>\n",
       "      <td>1.000000</td>\n",
       "      <td>0.000000</td>\n",
       "      <td>0.000000</td>\n",
       "      <td>0.000000</td>\n",
       "      <td>0.000000</td>\n",
       "    </tr>\n",
       "    <tr>\n",
       "      <th>50%</th>\n",
       "      <td>39.380000</td>\n",
       "      <td>76.020000</td>\n",
       "      <td>37.900000</td>\n",
       "      <td>82.500000</td>\n",
       "      <td>5.574000</td>\n",
       "      <td>12.960000</td>\n",
       "      <td>286.700000</td>\n",
       "      <td>0.000000</td>\n",
       "      <td>11.260000</td>\n",
       "      <td>1017.278000</td>\n",
       "      <td>...</td>\n",
       "      <td>2.000000</td>\n",
       "      <td>2.041667</td>\n",
       "      <td>0.333333</td>\n",
       "      <td>0.000000</td>\n",
       "      <td>0.00000</td>\n",
       "      <td>1.000000</td>\n",
       "      <td>0.625000</td>\n",
       "      <td>0.000000</td>\n",
       "      <td>0.000000</td>\n",
       "      <td>0.000000</td>\n",
       "    </tr>\n",
       "    <tr>\n",
       "      <th>75%</th>\n",
       "      <td>50.840000</td>\n",
       "      <td>91.900000</td>\n",
       "      <td>51.082500</td>\n",
       "      <td>99.400000</td>\n",
       "      <td>9.330000</td>\n",
       "      <td>18.380000</td>\n",
       "      <td>310.500000</td>\n",
       "      <td>0.000000</td>\n",
       "      <td>69.300000</td>\n",
       "      <td>1020.180000</td>\n",
       "      <td>...</td>\n",
       "      <td>2.125000</td>\n",
       "      <td>3.000000</td>\n",
       "      <td>1.000000</td>\n",
       "      <td>0.000000</td>\n",
       "      <td>0.00000</td>\n",
       "      <td>1.000000</td>\n",
       "      <td>1.000000</td>\n",
       "      <td>0.000000</td>\n",
       "      <td>0.000000</td>\n",
       "      <td>0.000000</td>\n",
       "    </tr>\n",
       "    <tr>\n",
       "      <th>max</th>\n",
       "      <td>86.800000</td>\n",
       "      <td>100.000000</td>\n",
       "      <td>85.000000</td>\n",
       "      <td>100.000000</td>\n",
       "      <td>41.900000</td>\n",
       "      <td>72.800000</td>\n",
       "      <td>360.000000</td>\n",
       "      <td>0.740000</td>\n",
       "      <td>143.700000</td>\n",
       "      <td>1034.949000</td>\n",
       "      <td>...</td>\n",
       "      <td>5.000000</td>\n",
       "      <td>5.000000</td>\n",
       "      <td>1.000000</td>\n",
       "      <td>1.000000</td>\n",
       "      <td>1.00000</td>\n",
       "      <td>1.000000</td>\n",
       "      <td>1.000000</td>\n",
       "      <td>1.000000</td>\n",
       "      <td>1.000000</td>\n",
       "      <td>1.000000</td>\n",
       "    </tr>\n",
       "  </tbody>\n",
       "</table>\n",
       "<p>8 rows × 21 columns</p>\n",
       "</div>"
      ],
      "text/plain": [
       "       Temperature_m  Relative_Humidity_m  Temperature_tl  \\\n",
       "count   28096.000000         28096.000000    28096.000000   \n",
       "mean       41.340654            69.038744       40.459413   \n",
       "std        14.186632            24.548847       14.506174   \n",
       "min         3.229000             4.673000        5.743000   \n",
       "25%        30.880000            48.297500       29.200000   \n",
       "50%        39.380000            76.020000       37.900000   \n",
       "75%        50.840000            91.900000       51.082500   \n",
       "max        86.800000           100.000000       85.000000   \n",
       "\n",
       "       Relative_Humidity_tl  Wind_Speed_Average_tl  Wind_Speed_Maximum_tl  \\\n",
       "count          28096.000000           28096.000000           28096.000000   \n",
       "mean              71.808071               5.993168              13.217519   \n",
       "std               28.415366               4.858733               8.173173   \n",
       "min                4.038000              -0.036000               0.000000   \n",
       "25%               46.807500               1.494000               7.160000   \n",
       "50%               82.500000               5.574000              12.960000   \n",
       "75%               99.400000               9.330000              18.380000   \n",
       "max              100.000000              41.900000              72.800000   \n",
       "\n",
       "       Wind_Direction_(deg.)_tl        precip         depth      pressure  \\\n",
       "count              28096.000000  28096.000000  28096.000000  28096.000000   \n",
       "mean                 232.426810      0.010876     35.254139   1016.176392   \n",
       "std                  106.077977      0.034138     42.249978      6.085565   \n",
       "min                    0.005000      0.000000      0.000000    990.000000   \n",
       "25%                  106.100000      0.000000      2.905000   1013.212000   \n",
       "50%                  286.700000      0.000000     11.260000   1017.278000   \n",
       "75%                  310.500000      0.000000     69.300000   1020.180000   \n",
       "max                  360.000000      0.740000    143.700000   1034.949000   \n",
       "\n",
       "          ...             below         near  storm_slabs    wet_slabs  \\\n",
       "count     ...       9911.000000  9911.000000  9911.000000  9911.000000   \n",
       "mean      ...          1.932926     2.332011     0.453088     0.031480   \n",
       "std       ...          0.698447     0.704180     0.451705     0.152445   \n",
       "min       ...          1.000000     1.000000     0.000000     0.000000   \n",
       "25%       ...          1.291667     2.000000     0.000000     0.000000   \n",
       "50%       ...          2.000000     2.041667     0.333333     0.000000   \n",
       "75%       ...          2.125000     3.000000     1.000000     0.000000   \n",
       "max       ...          5.000000     5.000000     1.000000     1.000000   \n",
       "\n",
       "       persistent    wind_slab    loose_wet        glide     cornices  \\\n",
       "count  9911.00000  9911.000000  9911.000000  9911.000000  9911.000000   \n",
       "mean      0.05212     0.802341     0.525207     0.008532     0.163998   \n",
       "std       0.19421     0.378235     0.465231     0.085119     0.354426   \n",
       "min       0.00000     0.000000     0.000000     0.000000     0.000000   \n",
       "25%       0.00000     1.000000     0.000000     0.000000     0.000000   \n",
       "50%       0.00000     1.000000     0.625000     0.000000     0.000000   \n",
       "75%       0.00000     1.000000     1.000000     0.000000     0.000000   \n",
       "max       1.00000     1.000000     1.000000     1.000000     1.000000   \n",
       "\n",
       "         loose_dry  \n",
       "count  9911.000000  \n",
       "mean      0.036374  \n",
       "std       0.171454  \n",
       "min       0.000000  \n",
       "25%       0.000000  \n",
       "50%       0.000000  \n",
       "75%       0.000000  \n",
       "max       1.000000  \n",
       "\n",
       "[8 rows x 21 columns]"
      ]
     },
     "execution_count": 3,
     "metadata": {},
     "output_type": "execute_result"
    }
   ],
   "source": [
    "df.describe()"
   ]
  },
  {
   "cell_type": "code",
   "execution_count": 4,
   "metadata": {},
   "outputs": [
    {
     "data": {
      "text/plain": [
       "Index(['2014-09-23 09:00:00', '2014-09-23 10:00:00', '2014-09-23 11:00:00',\n",
       "       '2014-09-23 12:00:00', '2014-09-23 13:00:00', '2014-09-23 14:00:00',\n",
       "       '2014-09-23 15:00:00', '2014-09-23 16:00:00', '2014-09-23 17:00:00',\n",
       "       '2014-09-23 18:00:00',\n",
       "       ...\n",
       "       '2017-12-08 03:00:00', '2017-12-08 04:00:00', '2017-12-08 05:00:00',\n",
       "       '2017-12-08 06:00:00', '2017-12-08 07:00:00', '2017-12-08 08:00:00',\n",
       "       '2017-12-08 09:00:00', '2017-12-08 10:00:00', '2017-12-08 11:00:00',\n",
       "       '2017-12-08 12:00:00'],\n",
       "      dtype='object', length=28096)"
      ]
     },
     "execution_count": 4,
     "metadata": {},
     "output_type": "execute_result"
    }
   ],
   "source": [
    "df.index"
   ]
  },
  {
   "cell_type": "markdown",
   "metadata": {},
   "source": [
    "### Prediction 1:\n",
    "# Storm Slab\n",
    "\n",
    "### Storm slab is formed during storms and tends to stabilize very quickly (~3 days after snowfall typical; definitely should resolve within a week)\n",
    "\n",
    "y = NWAC's forecast of storm slab: 0 or 1 at time T\n",
    "X = weather conditions, 5 days prior to T \n",
    "_possible revision to model: 5 days before and up to 24 hours after (because NWAC may predict storm slab as a hazard when a storm is coming in in the afternoon) - see if this is relevant_"
   ]
  },
  {
   "cell_type": "code",
   "execution_count": 5,
   "metadata": {},
   "outputs": [],
   "source": [
    "y_all = df.storm_slabs   # np.npdarray "
   ]
  },
  {
   "cell_type": "code",
   "execution_count": 6,
   "metadata": {},
   "outputs": [
    {
     "name": "stdout",
     "output_type": "stream",
     "text": [
      "(28096,)\n",
      "9911\n",
      "2014-09-23 09:00:00    True\n",
      "2014-09-23 10:00:00    True\n",
      "2014-09-23 11:00:00    True\n",
      "2014-09-23 12:00:00    True\n",
      "2014-09-23 13:00:00    True\n",
      "Name: storm_slabs, dtype: bool\n",
      "...\n",
      "2017-12-08 08:00:00    False\n",
      "2017-12-08 09:00:00    False\n",
      "2017-12-08 10:00:00    False\n",
      "2017-12-08 11:00:00    False\n",
      "2017-12-08 12:00:00    False\n",
      "Name: storm_slabs, dtype: bool\n",
      "\n",
      "y_ok.__len__() = 9911\n"
     ]
    }
   ],
   "source": [
    "# some relevant methods for manipluating y\n",
    "\n",
    "print(y_all.values.shape)\n",
    "print(y_all.count())\n",
    "print(y_all.iloc[:5].isna())\n",
    "print('...')\n",
    "print(y_all.iloc[-5:].isna())\n",
    "print()\n",
    "y_ok = y_all[~y_all.isna()]\n",
    "print('y_ok.__len__() =', len(y_ok))"
   ]
  },
  {
   "cell_type": "code",
   "execution_count": 7,
   "metadata": {},
   "outputs": [],
   "source": [
    "df.precip = df.precip.apply(lambda x: x*100)   # bring precip up to same scale approximately"
   ]
  },
  {
   "cell_type": "code",
   "execution_count": 62,
   "metadata": {},
   "outputs": [],
   "source": [
    "cols = ['Temperature_m', 'Wind_Speed_Average_tl', 'precip', 'Relative_Humidity_m', 'depth', 'Wind_Speed_Maximum_tl'] \n",
    "# cols to use\n",
    "\n",
    "data = df[cols]\n",
    "       \n",
    "# DNU   'depth','Temperature_tl', 'Wind_Speed_Maximum_tl',\n",
    "       #'above', 'below', 'near', 'storm_slabs', 'wet_slabs', 'Relative_Humidity_m',\n",
    "       #'persistent', 'wind_slab', 'loose_wet', 'glide', 'cornices',\n",
    "       #'loose_dry', 'Relative_Humidity_tl',  'Wind_Direction_(deg.)_tl',]"
   ]
  },
  {
   "cell_type": "code",
   "execution_count": 63,
   "metadata": {},
   "outputs": [
    {
     "data": {
      "text/html": [
       "<div>\n",
       "<style scoped>\n",
       "    .dataframe tbody tr th:only-of-type {\n",
       "        vertical-align: middle;\n",
       "    }\n",
       "\n",
       "    .dataframe tbody tr th {\n",
       "        vertical-align: top;\n",
       "    }\n",
       "\n",
       "    .dataframe thead th {\n",
       "        text-align: right;\n",
       "    }\n",
       "</style>\n",
       "<table border=\"1\" class=\"dataframe\">\n",
       "  <thead>\n",
       "    <tr style=\"text-align: right;\">\n",
       "      <th></th>\n",
       "      <th>Temperature_m</th>\n",
       "      <th>Wind_Speed_Average_tl</th>\n",
       "      <th>precip</th>\n",
       "      <th>Relative_Humidity_m</th>\n",
       "      <th>depth</th>\n",
       "      <th>Wind_Speed_Maximum_tl</th>\n",
       "    </tr>\n",
       "  </thead>\n",
       "  <tbody>\n",
       "    <tr>\n",
       "      <th>Temperature_m</th>\n",
       "      <td>1.000000</td>\n",
       "      <td>-0.223283</td>\n",
       "      <td>-0.174584</td>\n",
       "      <td>-0.708040</td>\n",
       "      <td>-0.420301</td>\n",
       "      <td>-0.243146</td>\n",
       "    </tr>\n",
       "    <tr>\n",
       "      <th>Wind_Speed_Average_tl</th>\n",
       "      <td>-0.223283</td>\n",
       "      <td>1.000000</td>\n",
       "      <td>0.251907</td>\n",
       "      <td>0.176858</td>\n",
       "      <td>0.040877</td>\n",
       "      <td>0.946514</td>\n",
       "    </tr>\n",
       "    <tr>\n",
       "      <th>precip</th>\n",
       "      <td>-0.174584</td>\n",
       "      <td>0.251907</td>\n",
       "      <td>1.000000</td>\n",
       "      <td>0.332055</td>\n",
       "      <td>0.060287</td>\n",
       "      <td>0.290814</td>\n",
       "    </tr>\n",
       "    <tr>\n",
       "      <th>Relative_Humidity_m</th>\n",
       "      <td>-0.708040</td>\n",
       "      <td>0.176858</td>\n",
       "      <td>0.332055</td>\n",
       "      <td>1.000000</td>\n",
       "      <td>0.254458</td>\n",
       "      <td>0.209519</td>\n",
       "    </tr>\n",
       "    <tr>\n",
       "      <th>depth</th>\n",
       "      <td>-0.420301</td>\n",
       "      <td>0.040877</td>\n",
       "      <td>0.060287</td>\n",
       "      <td>0.254458</td>\n",
       "      <td>1.000000</td>\n",
       "      <td>0.061801</td>\n",
       "    </tr>\n",
       "    <tr>\n",
       "      <th>Wind_Speed_Maximum_tl</th>\n",
       "      <td>-0.243146</td>\n",
       "      <td>0.946514</td>\n",
       "      <td>0.290814</td>\n",
       "      <td>0.209519</td>\n",
       "      <td>0.061801</td>\n",
       "      <td>1.000000</td>\n",
       "    </tr>\n",
       "  </tbody>\n",
       "</table>\n",
       "</div>"
      ],
      "text/plain": [
       "                       Temperature_m  Wind_Speed_Average_tl    precip  \\\n",
       "Temperature_m               1.000000              -0.223283 -0.174584   \n",
       "Wind_Speed_Average_tl      -0.223283               1.000000  0.251907   \n",
       "precip                     -0.174584               0.251907  1.000000   \n",
       "Relative_Humidity_m        -0.708040               0.176858  0.332055   \n",
       "depth                      -0.420301               0.040877  0.060287   \n",
       "Wind_Speed_Maximum_tl      -0.243146               0.946514  0.290814   \n",
       "\n",
       "                       Relative_Humidity_m     depth  Wind_Speed_Maximum_tl  \n",
       "Temperature_m                    -0.708040 -0.420301              -0.243146  \n",
       "Wind_Speed_Average_tl             0.176858  0.040877               0.946514  \n",
       "precip                            0.332055  0.060287               0.290814  \n",
       "Relative_Humidity_m               1.000000  0.254458               0.209519  \n",
       "depth                             0.254458  1.000000               0.061801  \n",
       "Wind_Speed_Maximum_tl             0.209519  0.061801               1.000000  "
      ]
     },
     "execution_count": 63,
     "metadata": {},
     "output_type": "execute_result"
    }
   ],
   "source": [
    "data.corr()\n",
    "# wind_speed average and maximum are 94% correlated so drop maximum.\n",
    "# temperature tl and m are also eqivalent"
   ]
  },
  {
   "cell_type": "code",
   "execution_count": 64,
   "metadata": {},
   "outputs": [
    {
     "data": {
      "text/plain": [
       "<matplotlib.axes._subplots.AxesSubplot at 0x7f89b8348b00>"
      ]
     },
     "execution_count": 64,
     "metadata": {},
     "output_type": "execute_result"
    },
    {
     "data": {
      "image/png": "[encoded data removed]",
      "text/plain": [
       "<matplotlib.figure.Figure at 0x7f89b83484e0>"
      ]
     },
     "metadata": {},
     "output_type": "display_data"
    }
   ],
   "source": [
    "data.plot(figsize=(12, 8))"
   ]
  },
  {
   "cell_type": "code",
   "execution_count": 65,
   "metadata": {},
   "outputs": [
    {
     "name": "stdout",
     "output_type": "stream",
     "text": [
      "(28096, 6)\n",
      "\n",
      "Temperature_m            28096\n",
      "Wind_Speed_Average_tl    28096\n",
      "precip                   28096\n",
      "Relative_Humidity_m      28096\n",
      "depth                    28096\n",
      "Wind_Speed_Maximum_tl    28096\n",
      "dtype: int64\n",
      "\n",
      "9911 = number of data corresponding to y_ok\n",
      "\n",
      "Temperature_m            32.68\n",
      "Wind_Speed_Average_tl    10.24\n",
      "precip                   17.00\n",
      "Relative_Humidity_m      96.70\n",
      "depth                     9.53\n",
      "Wind_Speed_Maximum_tl    21.14\n",
      "Name: 2014-12-20 12:00:00, dtype: float64\n"
     ]
    }
   ],
   "source": [
    "print(data.values.shape)\n",
    "print()\n",
    "print(data.count())\n",
    "# ok so: y is 9910 samples; these samples correspond to timestamps from a subset of the data\n",
    "print()\n",
    "print(len(data[~y_all.isna()]), '= number of data corresponding to y_ok')\n",
    "print()\n",
    "print(data.loc[y_ok.index[0]])"
   ]
  },
  {
   "cell_type": "code",
   "execution_count": 66,
   "metadata": {},
   "outputs": [],
   "source": [
    "# find i | x[i] matches index of y[j]\n",
    "# only have to run it once!\n",
    "\n",
    "dicty = {}    # map from .iloc index of y: corresponding .iloc index of data\n",
    "\n",
    "lower_limit = 0\n",
    "for i in range(len(y_ok)):\n",
    "    for j in range(lower_limit, len(data)):\n",
    "        if data.index[j] == y_ok.index[i]:\n",
    "            dicty[i] = j\n",
    "            lower_limit = j\n",
    "            break"
   ]
  },
  {
   "cell_type": "code",
   "execution_count": 67,
   "metadata": {},
   "outputs": [
    {
     "data": {
      "text/plain": [
       "2115"
      ]
     },
     "execution_count": 67,
     "metadata": {},
     "output_type": "execute_result"
    }
   ],
   "source": [
    "dicty[0]"
   ]
  },
  {
   "cell_type": "code",
   "execution_count": 68,
   "metadata": {},
   "outputs": [
    {
     "data": {
      "text/plain": [
       "(28096, 6)"
      ]
     },
     "execution_count": 68,
     "metadata": {},
     "output_type": "execute_result"
    }
   ],
   "source": [
    "data.values.shape"
   ]
  },
  {
   "cell_type": "code",
   "execution_count": 69,
   "metadata": {},
   "outputs": [
    {
     "name": "stdout",
     "output_type": "stream",
     "text": [
      "(9911,)\n",
      "(9911, 6)\n"
     ]
    }
   ],
   "source": [
    "y = y_ok\n",
    "X = data[~y_all.isna()].values\n",
    "\n",
    "print(y.shape)\n",
    "print(X.shape)"
   ]
  },
  {
   "cell_type": "code",
   "execution_count": 70,
   "metadata": {},
   "outputs": [],
   "source": [
    "X_train = X[:-2000]\n",
    "y_train = y[:-2000]\n",
    "\n",
    "X_test = X[-2000:]\n",
    "y_test = y[-2000:]"
   ]
  },
  {
   "cell_type": "markdown",
   "metadata": {},
   "source": [
    "One idea:\n",
    "\n",
    "Use point estimates\n",
    "\n"
   ]
  },
  {
   "cell_type": "code",
   "execution_count": 72,
   "metadata": {},
   "outputs": [],
   "source": [
    "from sklearn.ensemble import RandomForestRegressor as RF\n",
    "from sklearn.preprocessing import scale\n",
    "\n",
    "rf = RF(n_estimators=30, n_jobs=-1, max_features=6, max_depth=10)"
   ]
  },
  {
   "cell_type": "code",
   "execution_count": 73,
   "metadata": {},
   "outputs": [
    {
     "data": {
      "text/plain": [
       "RandomForestRegressor(bootstrap=True, criterion='mse', max_depth=10,\n",
       "           max_features=6, max_leaf_nodes=None, min_impurity_decrease=0.0,\n",
       "           min_impurity_split=None, min_samples_leaf=1,\n",
       "           min_samples_split=2, min_weight_fraction_leaf=0.0,\n",
       "           n_estimators=30, n_jobs=-1, oob_score=False, random_state=None,\n",
       "           verbose=0, warm_start=False)"
      ]
     },
     "execution_count": 73,
     "metadata": {},
     "output_type": "execute_result"
    }
   ],
   "source": [
    "# fit each RF to a series (X predict y_train: 0.0...1.0)\n",
    "rf.fit(X_train, y_train)"
   ]
  },
  {
   "cell_type": "code",
   "execution_count": 74,
   "metadata": {},
   "outputs": [
    {
     "data": {
      "text/plain": [
       "0.79253598287957772"
      ]
     },
     "execution_count": 74,
     "metadata": {},
     "output_type": "execute_result"
    }
   ],
   "source": [
    "rf.score(X_train, y_train)"
   ]
  },
  {
   "cell_type": "code",
   "execution_count": 75,
   "metadata": {},
   "outputs": [
    {
     "data": {
      "text/plain": [
       "-0.19971894375734253"
      ]
     },
     "execution_count": 75,
     "metadata": {},
     "output_type": "execute_result"
    }
   ],
   "source": [
    "rf.score(X_test, y_test)"
   ]
  },
  {
   "cell_type": "code",
   "execution_count": 51,
   "metadata": {},
   "outputs": [
    {
     "data": {
      "text/plain": [
       "array([ 32.68,  10.24,  17.  ,  96.7 ])"
      ]
     },
     "execution_count": 51,
     "metadata": {},
     "output_type": "execute_result"
    }
   ],
   "source": [
    "X[0]"
   ]
  },
  {
   "cell_type": "code",
   "execution_count": null,
   "metadata": {},
   "outputs": [],
   "source": []
  }
 ],
 "metadata": {
  "kernelspec": {
   "display_name": "Python 3",
   "language": "python",
   "name": "python3"
  },
  "language_info": {
   "codemirror_mode": {
    "name": "ipython",
    "version": 3
   },
   "file_extension": ".py",
   "mimetype": "text/x-python",
   "name": "python",
   "nbconvert_exporter": "python",
   "pygments_lexer": "ipython3",
   "version": "3.5.2"
  }
 },
 "nbformat": 4,
 "nbformat_minor": 2
}
